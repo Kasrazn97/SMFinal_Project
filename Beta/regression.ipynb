{
 "cells": [
  {
   "cell_type": "code",
   "execution_count": 1,
   "metadata": {
    "ExecuteTime": {
     "end_time": "2021-05-26T15:00:22.679881Z",
     "start_time": "2021-05-26T15:00:22.670885Z"
    }
   },
   "outputs": [
    {
     "name": "stdout",
     "output_type": "stream",
     "text": [
      "F:\\Bocconi\\Simulation\\Final\\Model\\SMFinal_Project\\data\n"
     ]
    }
   ],
   "source": [
    "cd F:\\Bocconi\\Simulation\\Final\\Model\\SMFinal_Project\\data"
   ]
  },
  {
   "cell_type": "code",
   "execution_count": 1,
   "metadata": {
    "ExecuteTime": {
     "end_time": "2021-05-26T15:00:40.425537Z",
     "start_time": "2021-05-26T15:00:33.068447Z"
    }
   },
   "outputs": [],
   "source": [
    "import pandas as pd\n",
    "import numpy as np"
   ]
  },
  {
   "cell_type": "code",
   "execution_count": 3,
   "metadata": {
    "ExecuteTime": {
     "end_time": "2021-05-26T15:10:24.510629Z",
     "start_time": "2021-05-26T15:10:24.498662Z"
    }
   },
   "outputs": [],
   "source": [
    "BrainDrain_living_df = pd.read_csv('../data/all_emigrants_high.csv')"
   ]
  },
  {
   "cell_type": "code",
   "execution_count": 6,
   "metadata": {
    "ExecuteTime": {
     "end_time": "2021-05-26T15:27:50.307656Z",
     "start_time": "2021-05-26T15:27:50.301684Z"
    }
   },
   "outputs": [],
   "source": [
    "BrainDrain_df = BrainDrain_living_df[['country_from','country_to']]"
   ]
  },
  {
   "cell_type": "code",
   "execution_count": 7,
   "metadata": {
    "ExecuteTime": {
     "end_time": "2021-05-26T15:11:19.297857Z",
     "start_time": "2021-05-26T15:11:19.273918Z"
    }
   },
   "outputs": [
    {
     "output_type": "execute_result",
     "data": {
      "text/plain": [
       "      Unnamed: 0 country_from     1980     1985      1990      1995      2000  \\\n",
       "0              0  Afghanistan      0.0      0.0    1124.0    2239.0    3854.0   \n",
       "1              1      Albania    198.0    174.0     189.0     237.0     466.0   \n",
       "2              2      Algeria      0.0      0.0     327.0     400.0     551.0   \n",
       "3              6    Argentina   2079.0   2794.0    3958.0    4674.0    5208.0   \n",
       "4              7      Armenia    114.0    108.0     329.0     364.0     420.0   \n",
       "...          ...          ...      ...      ...       ...       ...       ...   \n",
       "1260        3718    Venezuela   8096.0  14624.0   19811.0   29466.0   46043.0   \n",
       "1261        3719      Vietnam  32560.0  82847.0  137341.0  179714.0  260005.0   \n",
       "1262        3720        Yemen    416.0    741.0     965.0    1612.0    2750.0   \n",
       "1263        3721       Zambia    384.0    860.0    1332.0     739.0     930.0   \n",
       "1264        3722     Zimbabwe   1264.0   2123.0    2684.0    3586.0    5243.0   \n",
       "\n",
       "          2005      2010     country_to      total  \n",
       "0       4553.0    5333.0      Australia    17103.0  \n",
       "1        549.0     641.0      Australia     2454.0  \n",
       "2        645.0     749.0      Australia     2672.0  \n",
       "3       6228.0    7361.0      Australia    32302.0  \n",
       "4        503.0     596.0      Australia     2434.0  \n",
       "...        ...       ...            ...        ...  \n",
       "1260   78620.0   95187.0  United States   291847.0  \n",
       "1261  385364.0  445534.0  United States  1523365.0  \n",
       "1262    4474.0    5519.0  United States    16477.0  \n",
       "1263    1352.0    1544.0  United States     7141.0  \n",
       "1264    9246.0   10579.0  United States    34725.0  \n",
       "\n",
       "[1265 rows x 11 columns]"
      ],
      "text/html": "<div>\n<style scoped>\n    .dataframe tbody tr th:only-of-type {\n        vertical-align: middle;\n    }\n\n    .dataframe tbody tr th {\n        vertical-align: top;\n    }\n\n    .dataframe thead th {\n        text-align: right;\n    }\n</style>\n<table border=\"1\" class=\"dataframe\">\n  <thead>\n    <tr style=\"text-align: right;\">\n      <th></th>\n      <th>Unnamed: 0</th>\n      <th>country_from</th>\n      <th>1980</th>\n      <th>1985</th>\n      <th>1990</th>\n      <th>1995</th>\n      <th>2000</th>\n      <th>2005</th>\n      <th>2010</th>\n      <th>country_to</th>\n      <th>total</th>\n    </tr>\n  </thead>\n  <tbody>\n    <tr>\n      <th>0</th>\n      <td>0</td>\n      <td>Afghanistan</td>\n      <td>0.0</td>\n      <td>0.0</td>\n      <td>1124.0</td>\n      <td>2239.0</td>\n      <td>3854.0</td>\n      <td>4553.0</td>\n      <td>5333.0</td>\n      <td>Australia</td>\n      <td>17103.0</td>\n    </tr>\n    <tr>\n      <th>1</th>\n      <td>1</td>\n      <td>Albania</td>\n      <td>198.0</td>\n      <td>174.0</td>\n      <td>189.0</td>\n      <td>237.0</td>\n      <td>466.0</td>\n      <td>549.0</td>\n      <td>641.0</td>\n      <td>Australia</td>\n      <td>2454.0</td>\n    </tr>\n    <tr>\n      <th>2</th>\n      <td>2</td>\n      <td>Algeria</td>\n      <td>0.0</td>\n      <td>0.0</td>\n      <td>327.0</td>\n      <td>400.0</td>\n      <td>551.0</td>\n      <td>645.0</td>\n      <td>749.0</td>\n      <td>Australia</td>\n      <td>2672.0</td>\n    </tr>\n    <tr>\n      <th>3</th>\n      <td>6</td>\n      <td>Argentina</td>\n      <td>2079.0</td>\n      <td>2794.0</td>\n      <td>3958.0</td>\n      <td>4674.0</td>\n      <td>5208.0</td>\n      <td>6228.0</td>\n      <td>7361.0</td>\n      <td>Australia</td>\n      <td>32302.0</td>\n    </tr>\n    <tr>\n      <th>4</th>\n      <td>7</td>\n      <td>Armenia</td>\n      <td>114.0</td>\n      <td>108.0</td>\n      <td>329.0</td>\n      <td>364.0</td>\n      <td>420.0</td>\n      <td>503.0</td>\n      <td>596.0</td>\n      <td>Australia</td>\n      <td>2434.0</td>\n    </tr>\n    <tr>\n      <th>...</th>\n      <td>...</td>\n      <td>...</td>\n      <td>...</td>\n      <td>...</td>\n      <td>...</td>\n      <td>...</td>\n      <td>...</td>\n      <td>...</td>\n      <td>...</td>\n      <td>...</td>\n      <td>...</td>\n    </tr>\n    <tr>\n      <th>1260</th>\n      <td>3718</td>\n      <td>Venezuela</td>\n      <td>8096.0</td>\n      <td>14624.0</td>\n      <td>19811.0</td>\n      <td>29466.0</td>\n      <td>46043.0</td>\n      <td>78620.0</td>\n      <td>95187.0</td>\n      <td>United States</td>\n      <td>291847.0</td>\n    </tr>\n    <tr>\n      <th>1261</th>\n      <td>3719</td>\n      <td>Vietnam</td>\n      <td>32560.0</td>\n      <td>82847.0</td>\n      <td>137341.0</td>\n      <td>179714.0</td>\n      <td>260005.0</td>\n      <td>385364.0</td>\n      <td>445534.0</td>\n      <td>United States</td>\n      <td>1523365.0</td>\n    </tr>\n    <tr>\n      <th>1262</th>\n      <td>3720</td>\n      <td>Yemen</td>\n      <td>416.0</td>\n      <td>741.0</td>\n      <td>965.0</td>\n      <td>1612.0</td>\n      <td>2750.0</td>\n      <td>4474.0</td>\n      <td>5519.0</td>\n      <td>United States</td>\n      <td>16477.0</td>\n    </tr>\n    <tr>\n      <th>1263</th>\n      <td>3721</td>\n      <td>Zambia</td>\n      <td>384.0</td>\n      <td>860.0</td>\n      <td>1332.0</td>\n      <td>739.0</td>\n      <td>930.0</td>\n      <td>1352.0</td>\n      <td>1544.0</td>\n      <td>United States</td>\n      <td>7141.0</td>\n    </tr>\n    <tr>\n      <th>1264</th>\n      <td>3722</td>\n      <td>Zimbabwe</td>\n      <td>1264.0</td>\n      <td>2123.0</td>\n      <td>2684.0</td>\n      <td>3586.0</td>\n      <td>5243.0</td>\n      <td>9246.0</td>\n      <td>10579.0</td>\n      <td>United States</td>\n      <td>34725.0</td>\n    </tr>\n  </tbody>\n</table>\n<p>1265 rows × 11 columns</p>\n</div>"
     },
     "metadata": {},
     "execution_count": 7
    }
   ],
   "source": [
    "BrainDrain_living_df"
   ]
  },
  {
   "cell_type": "code",
   "execution_count": 8,
   "metadata": {
    "ExecuteTime": {
     "end_time": "2021-05-26T15:27:55.098895Z",
     "start_time": "2021-05-26T15:27:55.086929Z"
    }
   },
   "outputs": [
    {
     "output_type": "stream",
     "name": "stderr",
     "text": [
      "<ipython-input-8-d047e060f327>:1: SettingWithCopyWarning: \nA value is trying to be set on a copy of a slice from a DataFrame.\nTry using .loc[row_indexer,col_indexer] = value instead\n\nSee the caveats in the documentation: https://pandas.pydata.org/pandas-docs/stable/user_guide/indexing.html#returning-a-view-versus-a-copy\n  BrainDrain_df['1985'] = BrainDrain_living_df['1985'] - BrainDrain_living_df['1980']\n<ipython-input-8-d047e060f327>:2: SettingWithCopyWarning: \nA value is trying to be set on a copy of a slice from a DataFrame.\nTry using .loc[row_indexer,col_indexer] = value instead\n\nSee the caveats in the documentation: https://pandas.pydata.org/pandas-docs/stable/user_guide/indexing.html#returning-a-view-versus-a-copy\n  BrainDrain_df['1990'] = BrainDrain_living_df['1990'] - BrainDrain_living_df['1985']\n<ipython-input-8-d047e060f327>:3: SettingWithCopyWarning: \nA value is trying to be set on a copy of a slice from a DataFrame.\nTry using .loc[row_indexer,col_indexer] = value instead\n\nSee the caveats in the documentation: https://pandas.pydata.org/pandas-docs/stable/user_guide/indexing.html#returning-a-view-versus-a-copy\n  BrainDrain_df['1995'] = BrainDrain_living_df['1995'] - BrainDrain_living_df['1990']\n<ipython-input-8-d047e060f327>:4: SettingWithCopyWarning: \nA value is trying to be set on a copy of a slice from a DataFrame.\nTry using .loc[row_indexer,col_indexer] = value instead\n\nSee the caveats in the documentation: https://pandas.pydata.org/pandas-docs/stable/user_guide/indexing.html#returning-a-view-versus-a-copy\n  BrainDrain_df['2000'] = BrainDrain_living_df['2000'] - BrainDrain_living_df['1995']\n<ipython-input-8-d047e060f327>:5: SettingWithCopyWarning: \nA value is trying to be set on a copy of a slice from a DataFrame.\nTry using .loc[row_indexer,col_indexer] = value instead\n\nSee the caveats in the documentation: https://pandas.pydata.org/pandas-docs/stable/user_guide/indexing.html#returning-a-view-versus-a-copy\n  BrainDrain_df['2005'] = BrainDrain_living_df['2005'] - BrainDrain_living_df['2000']\n<ipython-input-8-d047e060f327>:6: SettingWithCopyWarning: \nA value is trying to be set on a copy of a slice from a DataFrame.\nTry using .loc[row_indexer,col_indexer] = value instead\n\nSee the caveats in the documentation: https://pandas.pydata.org/pandas-docs/stable/user_guide/indexing.html#returning-a-view-versus-a-copy\n  BrainDrain_df['2010'] = BrainDrain_living_df['2010'] - BrainDrain_living_df['2005']\n"
     ]
    }
   ],
   "source": [
    "BrainDrain_df['1985'] = BrainDrain_living_df['1985'] - BrainDrain_living_df['1980']\n",
    "BrainDrain_df['1990'] = BrainDrain_living_df['1990'] - BrainDrain_living_df['1985']\n",
    "BrainDrain_df['1995'] = BrainDrain_living_df['1995'] - BrainDrain_living_df['1990']\n",
    "BrainDrain_df['2000'] = BrainDrain_living_df['2000'] - BrainDrain_living_df['1995']\n",
    "BrainDrain_df['2005'] = BrainDrain_living_df['2005'] - BrainDrain_living_df['2000']\n",
    "BrainDrain_df['2010'] = BrainDrain_living_df['2010'] - BrainDrain_living_df['2005']\n"
   ]
  },
  {
   "cell_type": "code",
   "execution_count": 9,
   "metadata": {
    "ExecuteTime": {
     "end_time": "2021-05-26T15:28:05.142477Z",
     "start_time": "2021-05-26T15:28:05.122531Z"
    }
   },
   "outputs": [
    {
     "output_type": "execute_result",
     "data": {
      "text/plain": [
       "       country_from  country_to   1985   1990    1995    2000   2005   2010\n",
       "842         Belgium  Luxembourg  116.0   99.0 -1501.0  3986.0  564.0  658.0\n",
       "843         Denmark  Luxembourg  124.0  163.0  -344.0   476.0   65.0   74.0\n",
       "844          France  Luxembourg -118.0 -208.0   160.0  2321.0  493.0  573.0\n",
       "845         Germany  Luxembourg -108.0 -196.0   150.0   781.0  282.0  329.0\n",
       "846           Italy  Luxembourg  195.0  251.0  1478.0 -1318.0  111.0  130.0\n",
       "847     Netherlands  Luxembourg   14.0    6.0  -228.0   472.0   91.0  106.0\n",
       "848        Portugal  Luxembourg  -77.0 -115.0  5815.0 -5506.0   72.0   84.0\n",
       "849           Spain  Luxembourg  150.0  197.0  -132.0   325.0   68.0   78.0\n",
       "850  United Kingdom  Luxembourg  196.0  250.0  -735.0  1034.0  129.0  151.0\n",
       "851   United States  Luxembourg  113.0  147.0  -349.0   366.0   46.0   53.0"
      ],
      "text/html": "<div>\n<style scoped>\n    .dataframe tbody tr th:only-of-type {\n        vertical-align: middle;\n    }\n\n    .dataframe tbody tr th {\n        vertical-align: top;\n    }\n\n    .dataframe thead th {\n        text-align: right;\n    }\n</style>\n<table border=\"1\" class=\"dataframe\">\n  <thead>\n    <tr style=\"text-align: right;\">\n      <th></th>\n      <th>country_from</th>\n      <th>country_to</th>\n      <th>1985</th>\n      <th>1990</th>\n      <th>1995</th>\n      <th>2000</th>\n      <th>2005</th>\n      <th>2010</th>\n    </tr>\n  </thead>\n  <tbody>\n    <tr>\n      <th>842</th>\n      <td>Belgium</td>\n      <td>Luxembourg</td>\n      <td>116.0</td>\n      <td>99.0</td>\n      <td>-1501.0</td>\n      <td>3986.0</td>\n      <td>564.0</td>\n      <td>658.0</td>\n    </tr>\n    <tr>\n      <th>843</th>\n      <td>Denmark</td>\n      <td>Luxembourg</td>\n      <td>124.0</td>\n      <td>163.0</td>\n      <td>-344.0</td>\n      <td>476.0</td>\n      <td>65.0</td>\n      <td>74.0</td>\n    </tr>\n    <tr>\n      <th>844</th>\n      <td>France</td>\n      <td>Luxembourg</td>\n      <td>-118.0</td>\n      <td>-208.0</td>\n      <td>160.0</td>\n      <td>2321.0</td>\n      <td>493.0</td>\n      <td>573.0</td>\n    </tr>\n    <tr>\n      <th>845</th>\n      <td>Germany</td>\n      <td>Luxembourg</td>\n      <td>-108.0</td>\n      <td>-196.0</td>\n      <td>150.0</td>\n      <td>781.0</td>\n      <td>282.0</td>\n      <td>329.0</td>\n    </tr>\n    <tr>\n      <th>846</th>\n      <td>Italy</td>\n      <td>Luxembourg</td>\n      <td>195.0</td>\n      <td>251.0</td>\n      <td>1478.0</td>\n      <td>-1318.0</td>\n      <td>111.0</td>\n      <td>130.0</td>\n    </tr>\n    <tr>\n      <th>847</th>\n      <td>Netherlands</td>\n      <td>Luxembourg</td>\n      <td>14.0</td>\n      <td>6.0</td>\n      <td>-228.0</td>\n      <td>472.0</td>\n      <td>91.0</td>\n      <td>106.0</td>\n    </tr>\n    <tr>\n      <th>848</th>\n      <td>Portugal</td>\n      <td>Luxembourg</td>\n      <td>-77.0</td>\n      <td>-115.0</td>\n      <td>5815.0</td>\n      <td>-5506.0</td>\n      <td>72.0</td>\n      <td>84.0</td>\n    </tr>\n    <tr>\n      <th>849</th>\n      <td>Spain</td>\n      <td>Luxembourg</td>\n      <td>150.0</td>\n      <td>197.0</td>\n      <td>-132.0</td>\n      <td>325.0</td>\n      <td>68.0</td>\n      <td>78.0</td>\n    </tr>\n    <tr>\n      <th>850</th>\n      <td>United Kingdom</td>\n      <td>Luxembourg</td>\n      <td>196.0</td>\n      <td>250.0</td>\n      <td>-735.0</td>\n      <td>1034.0</td>\n      <td>129.0</td>\n      <td>151.0</td>\n    </tr>\n    <tr>\n      <th>851</th>\n      <td>United States</td>\n      <td>Luxembourg</td>\n      <td>113.0</td>\n      <td>147.0</td>\n      <td>-349.0</td>\n      <td>366.0</td>\n      <td>46.0</td>\n      <td>53.0</td>\n    </tr>\n  </tbody>\n</table>\n</div>"
     },
     "metadata": {},
     "execution_count": 9
    }
   ],
   "source": [
    "BrainDrain_df[BrainDrain_df['country_to']=='Luxembourg']"
   ]
  },
  {
   "cell_type": "code",
   "execution_count": 10,
   "metadata": {
    "ExecuteTime": {
     "end_time": "2021-05-26T15:33:10.423050Z",
     "start_time": "2021-05-26T15:33:10.417057Z"
    }
   },
   "outputs": [
    {
     "output_type": "execute_result",
     "data": {
      "text/plain": [
       "15.0"
      ]
     },
     "metadata": {},
     "execution_count": 10
    }
   ],
   "source": [
    "BrainDrain_df['1990'][1]"
   ]
  },
  {
   "cell_type": "code",
   "execution_count": 11,
   "metadata": {
    "ExecuteTime": {
     "end_time": "2021-05-26T15:33:56.546026Z",
     "start_time": "2021-05-26T15:33:56.361520Z"
    }
   },
   "outputs": [
    {
     "output_type": "stream",
     "name": "stderr",
     "text": [
      "<ipython-input-11-98ff5d9cfd3b>:4: SettingWithCopyWarning: \nA value is trying to be set on a copy of a slice from a DataFrame\n\nSee the caveats in the documentation: https://pandas.pydata.org/pandas-docs/stable/user_guide/indexing.html#returning-a-view-versus-a-copy\n  BrainDrain_df[i][j]=0\n/Users/aliyadavletshina/opt/anaconda3/lib/python3.8/site-packages/IPython/core/interactiveshell.py:3343: SettingWithCopyWarning: \nA value is trying to be set on a copy of a slice from a DataFrame\n\nSee the caveats in the documentation: https://pandas.pydata.org/pandas-docs/stable/user_guide/indexing.html#returning-a-view-versus-a-copy\n  exec(code_obj, self.user_global_ns, self.user_ns)\n"
     ]
    }
   ],
   "source": [
    "for i in ['1985','1990','1995','2000','2005','2010']:\n",
    "    for j in range(len(BrainDrain_df)):\n",
    "        if BrainDrain_df[i][j]<0:\n",
    "            BrainDrain_df[i][j]=0"
   ]
  },
  {
   "cell_type": "code",
   "execution_count": 12,
   "metadata": {
    "ExecuteTime": {
     "end_time": "2021-05-26T15:38:29.415589Z",
     "start_time": "2021-05-26T15:38:29.398635Z"
    }
   },
   "outputs": [
    {
     "output_type": "execute_result",
     "data": {
      "text/plain": [
       "     country_from     country_to     1985     1990     1995     2000  \\\n",
       "0     Afghanistan      Australia      0.0   1124.0   1115.0   1615.0   \n",
       "1         Albania      Australia      0.0     15.0     48.0    229.0   \n",
       "2         Algeria      Australia      0.0    327.0     73.0    151.0   \n",
       "3       Argentina      Australia    715.0   1164.0    716.0    534.0   \n",
       "4         Armenia      Australia      0.0    221.0     35.0     56.0   \n",
       "...           ...            ...      ...      ...      ...      ...   \n",
       "1260    Venezuela  United States   6528.0   5187.0   9655.0  16577.0   \n",
       "1261      Vietnam  United States  50287.0  54494.0  42373.0  80291.0   \n",
       "1262        Yemen  United States    325.0    224.0    647.0   1138.0   \n",
       "1263       Zambia  United States    476.0    472.0      0.0    191.0   \n",
       "1264     Zimbabwe  United States    859.0    561.0    902.0   1657.0   \n",
       "\n",
       "          2005     2010  \n",
       "0        699.0    780.0  \n",
       "1         83.0     92.0  \n",
       "2         94.0    104.0  \n",
       "3       1020.0   1133.0  \n",
       "4         83.0     93.0  \n",
       "...        ...      ...  \n",
       "1260   32577.0  16567.0  \n",
       "1261  125359.0  60170.0  \n",
       "1262    1724.0   1045.0  \n",
       "1263     422.0    192.0  \n",
       "1264    4003.0   1333.0  \n",
       "\n",
       "[1265 rows x 8 columns]"
      ],
      "text/html": "<div>\n<style scoped>\n    .dataframe tbody tr th:only-of-type {\n        vertical-align: middle;\n    }\n\n    .dataframe tbody tr th {\n        vertical-align: top;\n    }\n\n    .dataframe thead th {\n        text-align: right;\n    }\n</style>\n<table border=\"1\" class=\"dataframe\">\n  <thead>\n    <tr style=\"text-align: right;\">\n      <th></th>\n      <th>country_from</th>\n      <th>country_to</th>\n      <th>1985</th>\n      <th>1990</th>\n      <th>1995</th>\n      <th>2000</th>\n      <th>2005</th>\n      <th>2010</th>\n    </tr>\n  </thead>\n  <tbody>\n    <tr>\n      <th>0</th>\n      <td>Afghanistan</td>\n      <td>Australia</td>\n      <td>0.0</td>\n      <td>1124.0</td>\n      <td>1115.0</td>\n      <td>1615.0</td>\n      <td>699.0</td>\n      <td>780.0</td>\n    </tr>\n    <tr>\n      <th>1</th>\n      <td>Albania</td>\n      <td>Australia</td>\n      <td>0.0</td>\n      <td>15.0</td>\n      <td>48.0</td>\n      <td>229.0</td>\n      <td>83.0</td>\n      <td>92.0</td>\n    </tr>\n    <tr>\n      <th>2</th>\n      <td>Algeria</td>\n      <td>Australia</td>\n      <td>0.0</td>\n      <td>327.0</td>\n      <td>73.0</td>\n      <td>151.0</td>\n      <td>94.0</td>\n      <td>104.0</td>\n    </tr>\n    <tr>\n      <th>3</th>\n      <td>Argentina</td>\n      <td>Australia</td>\n      <td>715.0</td>\n      <td>1164.0</td>\n      <td>716.0</td>\n      <td>534.0</td>\n      <td>1020.0</td>\n      <td>1133.0</td>\n    </tr>\n    <tr>\n      <th>4</th>\n      <td>Armenia</td>\n      <td>Australia</td>\n      <td>0.0</td>\n      <td>221.0</td>\n      <td>35.0</td>\n      <td>56.0</td>\n      <td>83.0</td>\n      <td>93.0</td>\n    </tr>\n    <tr>\n      <th>...</th>\n      <td>...</td>\n      <td>...</td>\n      <td>...</td>\n      <td>...</td>\n      <td>...</td>\n      <td>...</td>\n      <td>...</td>\n      <td>...</td>\n    </tr>\n    <tr>\n      <th>1260</th>\n      <td>Venezuela</td>\n      <td>United States</td>\n      <td>6528.0</td>\n      <td>5187.0</td>\n      <td>9655.0</td>\n      <td>16577.0</td>\n      <td>32577.0</td>\n      <td>16567.0</td>\n    </tr>\n    <tr>\n      <th>1261</th>\n      <td>Vietnam</td>\n      <td>United States</td>\n      <td>50287.0</td>\n      <td>54494.0</td>\n      <td>42373.0</td>\n      <td>80291.0</td>\n      <td>125359.0</td>\n      <td>60170.0</td>\n    </tr>\n    <tr>\n      <th>1262</th>\n      <td>Yemen</td>\n      <td>United States</td>\n      <td>325.0</td>\n      <td>224.0</td>\n      <td>647.0</td>\n      <td>1138.0</td>\n      <td>1724.0</td>\n      <td>1045.0</td>\n    </tr>\n    <tr>\n      <th>1263</th>\n      <td>Zambia</td>\n      <td>United States</td>\n      <td>476.0</td>\n      <td>472.0</td>\n      <td>0.0</td>\n      <td>191.0</td>\n      <td>422.0</td>\n      <td>192.0</td>\n    </tr>\n    <tr>\n      <th>1264</th>\n      <td>Zimbabwe</td>\n      <td>United States</td>\n      <td>859.0</td>\n      <td>561.0</td>\n      <td>902.0</td>\n      <td>1657.0</td>\n      <td>4003.0</td>\n      <td>1333.0</td>\n    </tr>\n  </tbody>\n</table>\n<p>1265 rows × 8 columns</p>\n</div>"
     },
     "metadata": {},
     "execution_count": 12
    }
   ],
   "source": [
    "BrainDrain_df"
   ]
  },
  {
   "cell_type": "code",
   "execution_count": 13,
   "metadata": {
    "ExecuteTime": {
     "end_time": "2021-05-26T15:43:04.068611Z",
     "start_time": "2021-05-26T15:43:04.043676Z"
    }
   },
   "outputs": [
    {
     "output_type": "execute_result",
     "data": {
      "text/plain": [
       "                country_from country_to    1985  1990     1995     2000  \\\n",
       "775                  Albania     Greece   254.0   0.0  10350.0  10364.0   \n",
       "776                  Armenia     Greece    80.0   0.0    327.0   1495.0   \n",
       "777                Australia     Greece   174.0   0.0    451.0   3457.0   \n",
       "778                  Austria     Greece   124.0   0.0      0.0    643.0   \n",
       "779                  Belgium     Greece   229.0   0.0      0.0    665.0   \n",
       "780                   Brazil     Greece    13.0   0.0     53.0    312.0   \n",
       "781                 Bulgaria     Greece   145.0   0.0   1125.0   2235.0   \n",
       "782                   Canada     Greece   173.0   0.0     57.0   3008.0   \n",
       "783  Congo, Dem. Rep. of the     Greece     0.0   0.0     26.0    394.0   \n",
       "784                   Cyprus     Greece  2866.0   0.0      0.0   5818.0   \n",
       "785           Czech Republic     Greece   114.0   0.0     86.0   1772.0   \n",
       "786                    Egypt     Greece  1647.0   0.0      0.0   6929.0   \n",
       "787                 Ethiopia     Greece    59.0   4.0     79.0    338.0   \n",
       "788                   France     Greece   452.0   0.0      0.0   1962.0   \n",
       "789                  Georgia     Greece   865.0   0.0   3575.0  10091.0   \n",
       "790                  Germany     Greece  2891.0   0.0      0.0  16065.0   \n",
       "791                     Iraq     Greece    33.0   0.0    184.0    181.0   \n",
       "792                    Italy     Greece   383.0   0.0      0.0   1702.0   \n",
       "793                   Jordan     Greece   157.0   0.0      0.0    356.0   \n",
       "794               Kazakhstan     Greece   266.0   0.0   1089.0   2193.0   \n",
       "795                  Lebanon     Greece   346.0   0.0      0.0    499.0   \n",
       "796                  Moldova     Greece    31.0   0.0    133.0   1177.0   \n",
       "797              Netherlands     Greece    82.0   0.0      0.0    711.0   \n",
       "798                  Nigeria     Greece    25.0   0.0      6.0    317.0   \n",
       "799                 Pakistan     Greece     7.0   0.0    516.0      0.0   \n",
       "800              Philippines     Greece    92.0   0.0    158.0    758.0   \n",
       "801                   Poland     Greece   189.0   0.0    296.0   1414.0   \n",
       "802                  Romania     Greece   122.0   0.0    286.0   2519.0   \n",
       "803             South Africa     Greece   119.0   0.0      0.0   1401.0   \n",
       "804                    Spain     Greece    33.0   0.0     11.0    300.0   \n",
       "805                    Sudan     Greece    89.0   0.0      3.0    497.0   \n",
       "806                   Sweden     Greece   103.0   0.0      0.0    925.0   \n",
       "807              Switzerland     Greece    90.0   0.0      0.0    593.0   \n",
       "808                    Syria     Greece   140.0   0.0    124.0    492.0   \n",
       "809                   Turkey     Greece  3969.0   0.0  11279.0      0.0   \n",
       "810                  Ukraine     Greece   113.0   0.0    491.0   3485.0   \n",
       "811           United Kingdom     Greece   734.0   0.0      0.0   3987.0   \n",
       "812            United States     Greece  1403.0   0.0     26.0   4033.0   \n",
       "813               Uzbekistan     Greece    25.0   0.0    104.0   1343.0   \n",
       "\n",
       "        2005    2010  \n",
       "775  21461.0  8645.0  \n",
       "776   1407.0   699.0  \n",
       "777   4345.0  1824.0  \n",
       "778    754.0   322.0  \n",
       "779    937.0   385.0  \n",
       "780    408.0   173.0  \n",
       "781   3813.0  1632.0  \n",
       "782   3444.0  1441.0  \n",
       "783    438.0   179.0  \n",
       "784   6755.0  2761.0  \n",
       "785    209.0   435.0  \n",
       "786   8538.0  3403.0  \n",
       "787    495.0   202.0  \n",
       "788   2232.0   946.0  \n",
       "789   8239.0  4788.0  \n",
       "790  19311.0  8076.0  \n",
       "791    412.0   169.0  \n",
       "792   1983.0   836.0  \n",
       "793    348.0   132.0  \n",
       "794   1647.0  1088.0  \n",
       "795    622.0   245.0  \n",
       "796   1132.0   559.0  \n",
       "797    811.0   348.0  \n",
       "798    347.0   135.0  \n",
       "799    286.0   107.0  \n",
       "800   1118.0   489.0  \n",
       "801   2066.0   879.0  \n",
       "802   3142.0  1327.0  \n",
       "803   1544.0   645.0  \n",
       "804    373.0   162.0  \n",
       "805    613.0   248.0  \n",
       "806   1042.0   439.0  \n",
       "807    677.0   287.0  \n",
       "808    751.0   287.0  \n",
       "809   6716.0  2695.0  \n",
       "810   3125.0  1633.0  \n",
       "811   4545.0  1916.0  \n",
       "812   5865.0  2472.0  \n",
       "813   1324.0   593.0  "
      ],
      "text/html": "<div>\n<style scoped>\n    .dataframe tbody tr th:only-of-type {\n        vertical-align: middle;\n    }\n\n    .dataframe tbody tr th {\n        vertical-align: top;\n    }\n\n    .dataframe thead th {\n        text-align: right;\n    }\n</style>\n<table border=\"1\" class=\"dataframe\">\n  <thead>\n    <tr style=\"text-align: right;\">\n      <th></th>\n      <th>country_from</th>\n      <th>country_to</th>\n      <th>1985</th>\n      <th>1990</th>\n      <th>1995</th>\n      <th>2000</th>\n      <th>2005</th>\n      <th>2010</th>\n    </tr>\n  </thead>\n  <tbody>\n    <tr>\n      <th>775</th>\n      <td>Albania</td>\n      <td>Greece</td>\n      <td>254.0</td>\n      <td>0.0</td>\n      <td>10350.0</td>\n      <td>10364.0</td>\n      <td>21461.0</td>\n      <td>8645.0</td>\n    </tr>\n    <tr>\n      <th>776</th>\n      <td>Armenia</td>\n      <td>Greece</td>\n      <td>80.0</td>\n      <td>0.0</td>\n      <td>327.0</td>\n      <td>1495.0</td>\n      <td>1407.0</td>\n      <td>699.0</td>\n    </tr>\n    <tr>\n      <th>777</th>\n      <td>Australia</td>\n      <td>Greece</td>\n      <td>174.0</td>\n      <td>0.0</td>\n      <td>451.0</td>\n      <td>3457.0</td>\n      <td>4345.0</td>\n      <td>1824.0</td>\n    </tr>\n    <tr>\n      <th>778</th>\n      <td>Austria</td>\n      <td>Greece</td>\n      <td>124.0</td>\n      <td>0.0</td>\n      <td>0.0</td>\n      <td>643.0</td>\n      <td>754.0</td>\n      <td>322.0</td>\n    </tr>\n    <tr>\n      <th>779</th>\n      <td>Belgium</td>\n      <td>Greece</td>\n      <td>229.0</td>\n      <td>0.0</td>\n      <td>0.0</td>\n      <td>665.0</td>\n      <td>937.0</td>\n      <td>385.0</td>\n    </tr>\n    <tr>\n      <th>780</th>\n      <td>Brazil</td>\n      <td>Greece</td>\n      <td>13.0</td>\n      <td>0.0</td>\n      <td>53.0</td>\n      <td>312.0</td>\n      <td>408.0</td>\n      <td>173.0</td>\n    </tr>\n    <tr>\n      <th>781</th>\n      <td>Bulgaria</td>\n      <td>Greece</td>\n      <td>145.0</td>\n      <td>0.0</td>\n      <td>1125.0</td>\n      <td>2235.0</td>\n      <td>3813.0</td>\n      <td>1632.0</td>\n    </tr>\n    <tr>\n      <th>782</th>\n      <td>Canada</td>\n      <td>Greece</td>\n      <td>173.0</td>\n      <td>0.0</td>\n      <td>57.0</td>\n      <td>3008.0</td>\n      <td>3444.0</td>\n      <td>1441.0</td>\n    </tr>\n    <tr>\n      <th>783</th>\n      <td>Congo, Dem. Rep. of the</td>\n      <td>Greece</td>\n      <td>0.0</td>\n      <td>0.0</td>\n      <td>26.0</td>\n      <td>394.0</td>\n      <td>438.0</td>\n      <td>179.0</td>\n    </tr>\n    <tr>\n      <th>784</th>\n      <td>Cyprus</td>\n      <td>Greece</td>\n      <td>2866.0</td>\n      <td>0.0</td>\n      <td>0.0</td>\n      <td>5818.0</td>\n      <td>6755.0</td>\n      <td>2761.0</td>\n    </tr>\n    <tr>\n      <th>785</th>\n      <td>Czech Republic</td>\n      <td>Greece</td>\n      <td>114.0</td>\n      <td>0.0</td>\n      <td>86.0</td>\n      <td>1772.0</td>\n      <td>209.0</td>\n      <td>435.0</td>\n    </tr>\n    <tr>\n      <th>786</th>\n      <td>Egypt</td>\n      <td>Greece</td>\n      <td>1647.0</td>\n      <td>0.0</td>\n      <td>0.0</td>\n      <td>6929.0</td>\n      <td>8538.0</td>\n      <td>3403.0</td>\n    </tr>\n    <tr>\n      <th>787</th>\n      <td>Ethiopia</td>\n      <td>Greece</td>\n      <td>59.0</td>\n      <td>4.0</td>\n      <td>79.0</td>\n      <td>338.0</td>\n      <td>495.0</td>\n      <td>202.0</td>\n    </tr>\n    <tr>\n      <th>788</th>\n      <td>France</td>\n      <td>Greece</td>\n      <td>452.0</td>\n      <td>0.0</td>\n      <td>0.0</td>\n      <td>1962.0</td>\n      <td>2232.0</td>\n      <td>946.0</td>\n    </tr>\n    <tr>\n      <th>789</th>\n      <td>Georgia</td>\n      <td>Greece</td>\n      <td>865.0</td>\n      <td>0.0</td>\n      <td>3575.0</td>\n      <td>10091.0</td>\n      <td>8239.0</td>\n      <td>4788.0</td>\n    </tr>\n    <tr>\n      <th>790</th>\n      <td>Germany</td>\n      <td>Greece</td>\n      <td>2891.0</td>\n      <td>0.0</td>\n      <td>0.0</td>\n      <td>16065.0</td>\n      <td>19311.0</td>\n      <td>8076.0</td>\n    </tr>\n    <tr>\n      <th>791</th>\n      <td>Iraq</td>\n      <td>Greece</td>\n      <td>33.0</td>\n      <td>0.0</td>\n      <td>184.0</td>\n      <td>181.0</td>\n      <td>412.0</td>\n      <td>169.0</td>\n    </tr>\n    <tr>\n      <th>792</th>\n      <td>Italy</td>\n      <td>Greece</td>\n      <td>383.0</td>\n      <td>0.0</td>\n      <td>0.0</td>\n      <td>1702.0</td>\n      <td>1983.0</td>\n      <td>836.0</td>\n    </tr>\n    <tr>\n      <th>793</th>\n      <td>Jordan</td>\n      <td>Greece</td>\n      <td>157.0</td>\n      <td>0.0</td>\n      <td>0.0</td>\n      <td>356.0</td>\n      <td>348.0</td>\n      <td>132.0</td>\n    </tr>\n    <tr>\n      <th>794</th>\n      <td>Kazakhstan</td>\n      <td>Greece</td>\n      <td>266.0</td>\n      <td>0.0</td>\n      <td>1089.0</td>\n      <td>2193.0</td>\n      <td>1647.0</td>\n      <td>1088.0</td>\n    </tr>\n    <tr>\n      <th>795</th>\n      <td>Lebanon</td>\n      <td>Greece</td>\n      <td>346.0</td>\n      <td>0.0</td>\n      <td>0.0</td>\n      <td>499.0</td>\n      <td>622.0</td>\n      <td>245.0</td>\n    </tr>\n    <tr>\n      <th>796</th>\n      <td>Moldova</td>\n      <td>Greece</td>\n      <td>31.0</td>\n      <td>0.0</td>\n      <td>133.0</td>\n      <td>1177.0</td>\n      <td>1132.0</td>\n      <td>559.0</td>\n    </tr>\n    <tr>\n      <th>797</th>\n      <td>Netherlands</td>\n      <td>Greece</td>\n      <td>82.0</td>\n      <td>0.0</td>\n      <td>0.0</td>\n      <td>711.0</td>\n      <td>811.0</td>\n      <td>348.0</td>\n    </tr>\n    <tr>\n      <th>798</th>\n      <td>Nigeria</td>\n      <td>Greece</td>\n      <td>25.0</td>\n      <td>0.0</td>\n      <td>6.0</td>\n      <td>317.0</td>\n      <td>347.0</td>\n      <td>135.0</td>\n    </tr>\n    <tr>\n      <th>799</th>\n      <td>Pakistan</td>\n      <td>Greece</td>\n      <td>7.0</td>\n      <td>0.0</td>\n      <td>516.0</td>\n      <td>0.0</td>\n      <td>286.0</td>\n      <td>107.0</td>\n    </tr>\n    <tr>\n      <th>800</th>\n      <td>Philippines</td>\n      <td>Greece</td>\n      <td>92.0</td>\n      <td>0.0</td>\n      <td>158.0</td>\n      <td>758.0</td>\n      <td>1118.0</td>\n      <td>489.0</td>\n    </tr>\n    <tr>\n      <th>801</th>\n      <td>Poland</td>\n      <td>Greece</td>\n      <td>189.0</td>\n      <td>0.0</td>\n      <td>296.0</td>\n      <td>1414.0</td>\n      <td>2066.0</td>\n      <td>879.0</td>\n    </tr>\n    <tr>\n      <th>802</th>\n      <td>Romania</td>\n      <td>Greece</td>\n      <td>122.0</td>\n      <td>0.0</td>\n      <td>286.0</td>\n      <td>2519.0</td>\n      <td>3142.0</td>\n      <td>1327.0</td>\n    </tr>\n    <tr>\n      <th>803</th>\n      <td>South Africa</td>\n      <td>Greece</td>\n      <td>119.0</td>\n      <td>0.0</td>\n      <td>0.0</td>\n      <td>1401.0</td>\n      <td>1544.0</td>\n      <td>645.0</td>\n    </tr>\n    <tr>\n      <th>804</th>\n      <td>Spain</td>\n      <td>Greece</td>\n      <td>33.0</td>\n      <td>0.0</td>\n      <td>11.0</td>\n      <td>300.0</td>\n      <td>373.0</td>\n      <td>162.0</td>\n    </tr>\n    <tr>\n      <th>805</th>\n      <td>Sudan</td>\n      <td>Greece</td>\n      <td>89.0</td>\n      <td>0.0</td>\n      <td>3.0</td>\n      <td>497.0</td>\n      <td>613.0</td>\n      <td>248.0</td>\n    </tr>\n    <tr>\n      <th>806</th>\n      <td>Sweden</td>\n      <td>Greece</td>\n      <td>103.0</td>\n      <td>0.0</td>\n      <td>0.0</td>\n      <td>925.0</td>\n      <td>1042.0</td>\n      <td>439.0</td>\n    </tr>\n    <tr>\n      <th>807</th>\n      <td>Switzerland</td>\n      <td>Greece</td>\n      <td>90.0</td>\n      <td>0.0</td>\n      <td>0.0</td>\n      <td>593.0</td>\n      <td>677.0</td>\n      <td>287.0</td>\n    </tr>\n    <tr>\n      <th>808</th>\n      <td>Syria</td>\n      <td>Greece</td>\n      <td>140.0</td>\n      <td>0.0</td>\n      <td>124.0</td>\n      <td>492.0</td>\n      <td>751.0</td>\n      <td>287.0</td>\n    </tr>\n    <tr>\n      <th>809</th>\n      <td>Turkey</td>\n      <td>Greece</td>\n      <td>3969.0</td>\n      <td>0.0</td>\n      <td>11279.0</td>\n      <td>0.0</td>\n      <td>6716.0</td>\n      <td>2695.0</td>\n    </tr>\n    <tr>\n      <th>810</th>\n      <td>Ukraine</td>\n      <td>Greece</td>\n      <td>113.0</td>\n      <td>0.0</td>\n      <td>491.0</td>\n      <td>3485.0</td>\n      <td>3125.0</td>\n      <td>1633.0</td>\n    </tr>\n    <tr>\n      <th>811</th>\n      <td>United Kingdom</td>\n      <td>Greece</td>\n      <td>734.0</td>\n      <td>0.0</td>\n      <td>0.0</td>\n      <td>3987.0</td>\n      <td>4545.0</td>\n      <td>1916.0</td>\n    </tr>\n    <tr>\n      <th>812</th>\n      <td>United States</td>\n      <td>Greece</td>\n      <td>1403.0</td>\n      <td>0.0</td>\n      <td>26.0</td>\n      <td>4033.0</td>\n      <td>5865.0</td>\n      <td>2472.0</td>\n    </tr>\n    <tr>\n      <th>813</th>\n      <td>Uzbekistan</td>\n      <td>Greece</td>\n      <td>25.0</td>\n      <td>0.0</td>\n      <td>104.0</td>\n      <td>1343.0</td>\n      <td>1324.0</td>\n      <td>593.0</td>\n    </tr>\n  </tbody>\n</table>\n</div>"
     },
     "metadata": {},
     "execution_count": 13
    }
   ],
   "source": [
    "BrainDrain_df[BrainDrain_df['country_to']=='Greece']"
   ]
  },
  {
   "cell_type": "code",
   "execution_count": 14,
   "metadata": {
    "ExecuteTime": {
     "end_time": "2021-05-26T15:36:42.695090Z",
     "start_time": "2021-05-26T15:36:42.688091Z"
    }
   },
   "outputs": [],
   "source": [
    "BrainDrain__sum_df = BrainDrain_df.groupby('country_to').sum()"
   ]
  },
  {
   "cell_type": "code",
   "execution_count": 15,
   "metadata": {
    "ExecuteTime": {
     "end_time": "2021-05-26T15:37:19.316191Z",
     "start_time": "2021-05-26T15:37:19.311199Z"
    }
   },
   "outputs": [],
   "source": [
    "BrainDrain__sum_df['total'] = BrainDrain__sum_df.sum(axis=1)"
   ]
  },
  {
   "cell_type": "code",
   "execution_count": 16,
   "metadata": {
    "ExecuteTime": {
     "end_time": "2021-05-26T15:37:56.079932Z",
     "start_time": "2021-05-26T15:37:56.073926Z"
    }
   },
   "outputs": [],
   "source": [
    "BrainDrain__sum_df ['probability'] = BrainDrain__sum_df['total']/sum(BrainDrain__sum_df['total'])"
   ]
  },
  {
   "cell_type": "code",
   "execution_count": 17,
   "metadata": {
    "ExecuteTime": {
     "end_time": "2021-05-26T15:37:59.007077Z",
     "start_time": "2021-05-26T15:37:58.989126Z"
    }
   },
   "outputs": [
    {
     "output_type": "execute_result",
     "data": {
      "text/plain": [
       "                     1985       1990      1995       2000       2005  \\\n",
       "country_to                                                             \n",
       "Australia        195239.0   314210.0  235695.0   268554.0   300085.0   \n",
       "Austria            3677.0    26282.0   24764.0    23404.0    58325.0   \n",
       "Canada           119440.0   384988.0  415132.0   415620.0   816047.0   \n",
       "Chile              4412.0    39782.0   45538.0    71442.0    67825.0   \n",
       "Denmark            2895.0     7033.0   11852.0    19620.0    11375.0   \n",
       "Finland             237.0      718.0    5618.0     5772.0     6336.0   \n",
       "France            60836.0   105866.0  110572.0   162740.0   120725.0   \n",
       "Germany           23414.0    60340.0  372388.0    78881.0   174576.0   \n",
       "Greece            18637.0        4.0   30835.0    94431.0   123275.0   \n",
       "Ireland            9155.0     6640.0   19181.0    41190.0    44220.0   \n",
       "Luxembourg          908.0     1113.0    7603.0     9761.0     1921.0   \n",
       "Netherlands       32091.0    60204.0   44935.0    82328.0    95781.0   \n",
       "New Zealand       56410.0    35015.0   10924.0    25864.0   147099.0   \n",
       "Norway             6016.0    11037.0   12314.0    18146.0    26856.0   \n",
       "Portugal          19311.0     1732.0   23909.0    40830.0    36883.0   \n",
       "Sweden           105850.0    33515.0   44970.0    41553.0    60720.0   \n",
       "Switzerland       21361.0    38843.0   34979.0    49534.0     5598.0   \n",
       "United Kingdom    97741.0   107392.0  351018.0   556273.0   455582.0   \n",
       "United States   1756014.0  1135403.0  815332.0  1761816.0  3797231.0   \n",
       "\n",
       "                     2010       total  probability  \n",
       "country_to                                          \n",
       "Australia        333449.0   1647232.0     0.071697  \n",
       "Austria            2425.0    138877.0     0.006045  \n",
       "Canada          1246427.0   3397654.0     0.147885  \n",
       "Chile            123465.0    352464.0     0.015341  \n",
       "Denmark            9482.0     62257.0     0.002710  \n",
       "Finland            9573.0     28254.0     0.001230  \n",
       "France           333632.0    894371.0     0.038928  \n",
       "Germany          244902.0    954501.0     0.041545  \n",
       "Greece            53602.0    320784.0     0.013962  \n",
       "Ireland           96241.0    216627.0     0.009429  \n",
       "Luxembourg         2236.0     23542.0     0.001025  \n",
       "Netherlands       53853.0    369192.0     0.016069  \n",
       "New Zealand       57406.0    332718.0     0.014482  \n",
       "Norway            54250.0    128619.0     0.005598  \n",
       "Portugal          28149.0    150814.0     0.006564  \n",
       "Sweden           106105.0    392713.0     0.017093  \n",
       "Switzerland       19224.0    169539.0     0.007379  \n",
       "United Kingdom   774424.0   2342430.0     0.101956  \n",
       "United States   1786532.0  11052328.0     0.481061  "
      ],
      "text/html": "<div>\n<style scoped>\n    .dataframe tbody tr th:only-of-type {\n        vertical-align: middle;\n    }\n\n    .dataframe tbody tr th {\n        vertical-align: top;\n    }\n\n    .dataframe thead th {\n        text-align: right;\n    }\n</style>\n<table border=\"1\" class=\"dataframe\">\n  <thead>\n    <tr style=\"text-align: right;\">\n      <th></th>\n      <th>1985</th>\n      <th>1990</th>\n      <th>1995</th>\n      <th>2000</th>\n      <th>2005</th>\n      <th>2010</th>\n      <th>total</th>\n      <th>probability</th>\n    </tr>\n    <tr>\n      <th>country_to</th>\n      <th></th>\n      <th></th>\n      <th></th>\n      <th></th>\n      <th></th>\n      <th></th>\n      <th></th>\n      <th></th>\n    </tr>\n  </thead>\n  <tbody>\n    <tr>\n      <th>Australia</th>\n      <td>195239.0</td>\n      <td>314210.0</td>\n      <td>235695.0</td>\n      <td>268554.0</td>\n      <td>300085.0</td>\n      <td>333449.0</td>\n      <td>1647232.0</td>\n      <td>0.071697</td>\n    </tr>\n    <tr>\n      <th>Austria</th>\n      <td>3677.0</td>\n      <td>26282.0</td>\n      <td>24764.0</td>\n      <td>23404.0</td>\n      <td>58325.0</td>\n      <td>2425.0</td>\n      <td>138877.0</td>\n      <td>0.006045</td>\n    </tr>\n    <tr>\n      <th>Canada</th>\n      <td>119440.0</td>\n      <td>384988.0</td>\n      <td>415132.0</td>\n      <td>415620.0</td>\n      <td>816047.0</td>\n      <td>1246427.0</td>\n      <td>3397654.0</td>\n      <td>0.147885</td>\n    </tr>\n    <tr>\n      <th>Chile</th>\n      <td>4412.0</td>\n      <td>39782.0</td>\n      <td>45538.0</td>\n      <td>71442.0</td>\n      <td>67825.0</td>\n      <td>123465.0</td>\n      <td>352464.0</td>\n      <td>0.015341</td>\n    </tr>\n    <tr>\n      <th>Denmark</th>\n      <td>2895.0</td>\n      <td>7033.0</td>\n      <td>11852.0</td>\n      <td>19620.0</td>\n      <td>11375.0</td>\n      <td>9482.0</td>\n      <td>62257.0</td>\n      <td>0.002710</td>\n    </tr>\n    <tr>\n      <th>Finland</th>\n      <td>237.0</td>\n      <td>718.0</td>\n      <td>5618.0</td>\n      <td>5772.0</td>\n      <td>6336.0</td>\n      <td>9573.0</td>\n      <td>28254.0</td>\n      <td>0.001230</td>\n    </tr>\n    <tr>\n      <th>France</th>\n      <td>60836.0</td>\n      <td>105866.0</td>\n      <td>110572.0</td>\n      <td>162740.0</td>\n      <td>120725.0</td>\n      <td>333632.0</td>\n      <td>894371.0</td>\n      <td>0.038928</td>\n    </tr>\n    <tr>\n      <th>Germany</th>\n      <td>23414.0</td>\n      <td>60340.0</td>\n      <td>372388.0</td>\n      <td>78881.0</td>\n      <td>174576.0</td>\n      <td>244902.0</td>\n      <td>954501.0</td>\n      <td>0.041545</td>\n    </tr>\n    <tr>\n      <th>Greece</th>\n      <td>18637.0</td>\n      <td>4.0</td>\n      <td>30835.0</td>\n      <td>94431.0</td>\n      <td>123275.0</td>\n      <td>53602.0</td>\n      <td>320784.0</td>\n      <td>0.013962</td>\n    </tr>\n    <tr>\n      <th>Ireland</th>\n      <td>9155.0</td>\n      <td>6640.0</td>\n      <td>19181.0</td>\n      <td>41190.0</td>\n      <td>44220.0</td>\n      <td>96241.0</td>\n      <td>216627.0</td>\n      <td>0.009429</td>\n    </tr>\n    <tr>\n      <th>Luxembourg</th>\n      <td>908.0</td>\n      <td>1113.0</td>\n      <td>7603.0</td>\n      <td>9761.0</td>\n      <td>1921.0</td>\n      <td>2236.0</td>\n      <td>23542.0</td>\n      <td>0.001025</td>\n    </tr>\n    <tr>\n      <th>Netherlands</th>\n      <td>32091.0</td>\n      <td>60204.0</td>\n      <td>44935.0</td>\n      <td>82328.0</td>\n      <td>95781.0</td>\n      <td>53853.0</td>\n      <td>369192.0</td>\n      <td>0.016069</td>\n    </tr>\n    <tr>\n      <th>New Zealand</th>\n      <td>56410.0</td>\n      <td>35015.0</td>\n      <td>10924.0</td>\n      <td>25864.0</td>\n      <td>147099.0</td>\n      <td>57406.0</td>\n      <td>332718.0</td>\n      <td>0.014482</td>\n    </tr>\n    <tr>\n      <th>Norway</th>\n      <td>6016.0</td>\n      <td>11037.0</td>\n      <td>12314.0</td>\n      <td>18146.0</td>\n      <td>26856.0</td>\n      <td>54250.0</td>\n      <td>128619.0</td>\n      <td>0.005598</td>\n    </tr>\n    <tr>\n      <th>Portugal</th>\n      <td>19311.0</td>\n      <td>1732.0</td>\n      <td>23909.0</td>\n      <td>40830.0</td>\n      <td>36883.0</td>\n      <td>28149.0</td>\n      <td>150814.0</td>\n      <td>0.006564</td>\n    </tr>\n    <tr>\n      <th>Sweden</th>\n      <td>105850.0</td>\n      <td>33515.0</td>\n      <td>44970.0</td>\n      <td>41553.0</td>\n      <td>60720.0</td>\n      <td>106105.0</td>\n      <td>392713.0</td>\n      <td>0.017093</td>\n    </tr>\n    <tr>\n      <th>Switzerland</th>\n      <td>21361.0</td>\n      <td>38843.0</td>\n      <td>34979.0</td>\n      <td>49534.0</td>\n      <td>5598.0</td>\n      <td>19224.0</td>\n      <td>169539.0</td>\n      <td>0.007379</td>\n    </tr>\n    <tr>\n      <th>United Kingdom</th>\n      <td>97741.0</td>\n      <td>107392.0</td>\n      <td>351018.0</td>\n      <td>556273.0</td>\n      <td>455582.0</td>\n      <td>774424.0</td>\n      <td>2342430.0</td>\n      <td>0.101956</td>\n    </tr>\n    <tr>\n      <th>United States</th>\n      <td>1756014.0</td>\n      <td>1135403.0</td>\n      <td>815332.0</td>\n      <td>1761816.0</td>\n      <td>3797231.0</td>\n      <td>1786532.0</td>\n      <td>11052328.0</td>\n      <td>0.481061</td>\n    </tr>\n  </tbody>\n</table>\n</div>"
     },
     "metadata": {},
     "execution_count": 17
    }
   ],
   "source": [
    "BrainDrain__sum_df"
   ]
  },
  {
   "cell_type": "code",
   "execution_count": 31,
   "metadata": {},
   "outputs": [
    {
     "output_type": "execute_result",
     "data": {
      "text/plain": [
       "        country_to      1985      1990      1995      2000      2005  \\\n",
       "0        Australia  0.077059  0.132572  0.090044  0.071277  0.047254   \n",
       "1          Austria  0.001451  0.011089  0.009461  0.006212  0.009184   \n",
       "2           Canada  0.047142  0.162434  0.158595  0.110310  0.128502   \n",
       "3            Chile  0.001741  0.016785  0.017397  0.018961  0.010680   \n",
       "4          Denmark  0.001143  0.002967  0.004528  0.005207  0.001791   \n",
       "5          Finland  0.000094  0.000303  0.002146  0.001532  0.000998   \n",
       "6           France  0.024011  0.044667  0.042242  0.043193  0.019010   \n",
       "7          Germany  0.009241  0.025459  0.142265  0.020936  0.027490   \n",
       "8           Greece  0.007356  0.000002  0.011780  0.025063  0.019412   \n",
       "9          Ireland  0.003613  0.002802  0.007328  0.010932  0.006963   \n",
       "10      Luxembourg  0.000358  0.000470  0.002905  0.002591  0.000302   \n",
       "11     Netherlands  0.012666  0.025401  0.017167  0.021851  0.015083   \n",
       "12     New Zealand  0.022264  0.014774  0.004173  0.006865  0.023164   \n",
       "13          Norway  0.002374  0.004657  0.004704  0.004816  0.004229   \n",
       "14        Portugal  0.007622  0.000731  0.009134  0.010837  0.005808   \n",
       "15          Sweden  0.041778  0.014141  0.017180  0.011029  0.009562   \n",
       "16     Switzerland  0.008431  0.016389  0.013363  0.013147  0.000882   \n",
       "17  United Kingdom  0.038577  0.045311  0.134101  0.147640  0.071740   \n",
       "18   United States  0.693078  0.479049  0.311486  0.467603  0.597946   \n",
       "\n",
       "        2010     total  \n",
       "0   0.062498  0.080117  \n",
       "1   0.000455  0.006309  \n",
       "2   0.233616  0.140100  \n",
       "3   0.023141  0.014784  \n",
       "4   0.001777  0.002902  \n",
       "5   0.001794  0.001144  \n",
       "6   0.062532  0.039276  \n",
       "7   0.045902  0.045215  \n",
       "8   0.010047  0.012276  \n",
       "9   0.018038  0.008279  \n",
       "10  0.000419  0.001174  \n",
       "11  0.010094  0.017043  \n",
       "12  0.010760  0.013666  \n",
       "13  0.010168  0.005158  \n",
       "14  0.005276  0.006568  \n",
       "15  0.019887  0.018929  \n",
       "16  0.003603  0.009302  \n",
       "17  0.145149  0.097086  \n",
       "18  0.334846  0.480668  "
      ],
      "text/html": "<div>\n<style scoped>\n    .dataframe tbody tr th:only-of-type {\n        vertical-align: middle;\n    }\n\n    .dataframe tbody tr th {\n        vertical-align: top;\n    }\n\n    .dataframe thead th {\n        text-align: right;\n    }\n</style>\n<table border=\"1\" class=\"dataframe\">\n  <thead>\n    <tr style=\"text-align: right;\">\n      <th></th>\n      <th>country_to</th>\n      <th>1985</th>\n      <th>1990</th>\n      <th>1995</th>\n      <th>2000</th>\n      <th>2005</th>\n      <th>2010</th>\n      <th>total</th>\n    </tr>\n  </thead>\n  <tbody>\n    <tr>\n      <th>0</th>\n      <td>Australia</td>\n      <td>0.077059</td>\n      <td>0.132572</td>\n      <td>0.090044</td>\n      <td>0.071277</td>\n      <td>0.047254</td>\n      <td>0.062498</td>\n      <td>0.080117</td>\n    </tr>\n    <tr>\n      <th>1</th>\n      <td>Austria</td>\n      <td>0.001451</td>\n      <td>0.011089</td>\n      <td>0.009461</td>\n      <td>0.006212</td>\n      <td>0.009184</td>\n      <td>0.000455</td>\n      <td>0.006309</td>\n    </tr>\n    <tr>\n      <th>2</th>\n      <td>Canada</td>\n      <td>0.047142</td>\n      <td>0.162434</td>\n      <td>0.158595</td>\n      <td>0.110310</td>\n      <td>0.128502</td>\n      <td>0.233616</td>\n      <td>0.140100</td>\n    </tr>\n    <tr>\n      <th>3</th>\n      <td>Chile</td>\n      <td>0.001741</td>\n      <td>0.016785</td>\n      <td>0.017397</td>\n      <td>0.018961</td>\n      <td>0.010680</td>\n      <td>0.023141</td>\n      <td>0.014784</td>\n    </tr>\n    <tr>\n      <th>4</th>\n      <td>Denmark</td>\n      <td>0.001143</td>\n      <td>0.002967</td>\n      <td>0.004528</td>\n      <td>0.005207</td>\n      <td>0.001791</td>\n      <td>0.001777</td>\n      <td>0.002902</td>\n    </tr>\n    <tr>\n      <th>5</th>\n      <td>Finland</td>\n      <td>0.000094</td>\n      <td>0.000303</td>\n      <td>0.002146</td>\n      <td>0.001532</td>\n      <td>0.000998</td>\n      <td>0.001794</td>\n      <td>0.001144</td>\n    </tr>\n    <tr>\n      <th>6</th>\n      <td>France</td>\n      <td>0.024011</td>\n      <td>0.044667</td>\n      <td>0.042242</td>\n      <td>0.043193</td>\n      <td>0.019010</td>\n      <td>0.062532</td>\n      <td>0.039276</td>\n    </tr>\n    <tr>\n      <th>7</th>\n      <td>Germany</td>\n      <td>0.009241</td>\n      <td>0.025459</td>\n      <td>0.142265</td>\n      <td>0.020936</td>\n      <td>0.027490</td>\n      <td>0.045902</td>\n      <td>0.045215</td>\n    </tr>\n    <tr>\n      <th>8</th>\n      <td>Greece</td>\n      <td>0.007356</td>\n      <td>0.000002</td>\n      <td>0.011780</td>\n      <td>0.025063</td>\n      <td>0.019412</td>\n      <td>0.010047</td>\n      <td>0.012276</td>\n    </tr>\n    <tr>\n      <th>9</th>\n      <td>Ireland</td>\n      <td>0.003613</td>\n      <td>0.002802</td>\n      <td>0.007328</td>\n      <td>0.010932</td>\n      <td>0.006963</td>\n      <td>0.018038</td>\n      <td>0.008279</td>\n    </tr>\n    <tr>\n      <th>10</th>\n      <td>Luxembourg</td>\n      <td>0.000358</td>\n      <td>0.000470</td>\n      <td>0.002905</td>\n      <td>0.002591</td>\n      <td>0.000302</td>\n      <td>0.000419</td>\n      <td>0.001174</td>\n    </tr>\n    <tr>\n      <th>11</th>\n      <td>Netherlands</td>\n      <td>0.012666</td>\n      <td>0.025401</td>\n      <td>0.017167</td>\n      <td>0.021851</td>\n      <td>0.015083</td>\n      <td>0.010094</td>\n      <td>0.017043</td>\n    </tr>\n    <tr>\n      <th>12</th>\n      <td>New Zealand</td>\n      <td>0.022264</td>\n      <td>0.014774</td>\n      <td>0.004173</td>\n      <td>0.006865</td>\n      <td>0.023164</td>\n      <td>0.010760</td>\n      <td>0.013666</td>\n    </tr>\n    <tr>\n      <th>13</th>\n      <td>Norway</td>\n      <td>0.002374</td>\n      <td>0.004657</td>\n      <td>0.004704</td>\n      <td>0.004816</td>\n      <td>0.004229</td>\n      <td>0.010168</td>\n      <td>0.005158</td>\n    </tr>\n    <tr>\n      <th>14</th>\n      <td>Portugal</td>\n      <td>0.007622</td>\n      <td>0.000731</td>\n      <td>0.009134</td>\n      <td>0.010837</td>\n      <td>0.005808</td>\n      <td>0.005276</td>\n      <td>0.006568</td>\n    </tr>\n    <tr>\n      <th>15</th>\n      <td>Sweden</td>\n      <td>0.041778</td>\n      <td>0.014141</td>\n      <td>0.017180</td>\n      <td>0.011029</td>\n      <td>0.009562</td>\n      <td>0.019887</td>\n      <td>0.018929</td>\n    </tr>\n    <tr>\n      <th>16</th>\n      <td>Switzerland</td>\n      <td>0.008431</td>\n      <td>0.016389</td>\n      <td>0.013363</td>\n      <td>0.013147</td>\n      <td>0.000882</td>\n      <td>0.003603</td>\n      <td>0.009302</td>\n    </tr>\n    <tr>\n      <th>17</th>\n      <td>United Kingdom</td>\n      <td>0.038577</td>\n      <td>0.045311</td>\n      <td>0.134101</td>\n      <td>0.147640</td>\n      <td>0.071740</td>\n      <td>0.145149</td>\n      <td>0.097086</td>\n    </tr>\n    <tr>\n      <th>18</th>\n      <td>United States</td>\n      <td>0.693078</td>\n      <td>0.479049</td>\n      <td>0.311486</td>\n      <td>0.467603</td>\n      <td>0.597946</td>\n      <td>0.334846</td>\n      <td>0.480668</td>\n    </tr>\n  </tbody>\n</table>\n</div>"
     },
     "metadata": {},
     "execution_count": 31
    }
   ],
   "source": [
    "# as an anternative approach - getting probability for each year and then taking the average  \n",
    "\n",
    "BrainDrain__probs_df = pd.DataFrame({'country_to': BrainDrain__sum_df.index, '1985': np.zeros(len(BrainDrain__sum_df))})\n",
    "BrainDrain__probs_df['1985'] = (BrainDrain__sum_df['1985'] / sum(BrainDrain__sum_df['1985'])).values\n",
    "BrainDrain__probs_df['1985'] = (BrainDrain__sum_df['1985'] / sum(BrainDrain__sum_df['1985'])).values\n",
    "BrainDrain__probs_df['1990'] = (BrainDrain__sum_df['1990'] / sum(BrainDrain__sum_df['1990'])).values\n",
    "BrainDrain__probs_df['1995'] = (BrainDrain__sum_df['1995'] / sum(BrainDrain__sum_df['1995'])).values\n",
    "BrainDrain__probs_df['2000'] = (BrainDrain__sum_df['2000'] / sum(BrainDrain__sum_df['2000'])).values\n",
    "BrainDrain__probs_df['2005'] = (BrainDrain__sum_df['2005'] / sum(BrainDrain__sum_df['2005'])).values\n",
    "BrainDrain__probs_df['2010'] = (BrainDrain__sum_df['2010'] / sum(BrainDrain__sum_df['2010'])).values\n",
    "BrainDrain__probs_df['total'] = BrainDrain__probs_df.mean(axis=1)\n",
    "BrainDrain__probs_df"
   ]
  },
  {
   "cell_type": "code",
   "execution_count": 74,
   "metadata": {
    "ExecuteTime": {
     "end_time": "2021-05-26T15:51:52.074027Z",
     "start_time": "2021-05-26T15:51:52.065051Z"
    }
   },
   "outputs": [],
   "source": [
    "BrainDrain__sum_df.to_csv('Country_probabilities.csv')"
   ]
  },
  {
   "cell_type": "markdown",
   "metadata": {},
   "source": [
    "# Finding Betas"
   ]
  },
  {
   "cell_type": "code",
   "execution_count": 36,
   "metadata": {
    "ExecuteTime": {
     "end_time": "2021-05-26T16:20:27.216201Z",
     "start_time": "2021-05-26T16:20:27.197253Z"
    }
   },
   "outputs": [
    {
     "output_type": "execute_result",
     "data": {
      "text/plain": [
       "        country_to       1985       1990      1995       2000       2005  \\\n",
       "0        Australia   195239.0   314210.0  235695.0   268554.0   300085.0   \n",
       "1          Austria     3677.0    26282.0   24764.0    23404.0    58325.0   \n",
       "2           Canada   119440.0   384988.0  415132.0   415620.0   816047.0   \n",
       "3            Chile     4412.0    39782.0   45538.0    71442.0    67825.0   \n",
       "4          Denmark     2895.0     7033.0   11852.0    19620.0    11375.0   \n",
       "5          Finland      237.0      718.0    5618.0     5772.0     6336.0   \n",
       "6           France    60836.0   105866.0  110572.0   162740.0   120725.0   \n",
       "7          Germany    23414.0    60340.0  372388.0    78881.0   174576.0   \n",
       "8           Greece    18637.0        4.0   30835.0    94431.0   123275.0   \n",
       "9          Ireland     9155.0     6640.0   19181.0    41190.0    44220.0   \n",
       "10      Luxembourg      908.0     1113.0    7603.0     9761.0     1921.0   \n",
       "11     Netherlands    32091.0    60204.0   44935.0    82328.0    95781.0   \n",
       "12     New Zealand    56410.0    35015.0   10924.0    25864.0   147099.0   \n",
       "13          Norway     6016.0    11037.0   12314.0    18146.0    26856.0   \n",
       "14        Portugal    19311.0     1732.0   23909.0    40830.0    36883.0   \n",
       "15          Sweden   105850.0    33515.0   44970.0    41553.0    60720.0   \n",
       "16     Switzerland    21361.0    38843.0   34979.0    49534.0     5598.0   \n",
       "17  United Kingdom    97741.0   107392.0  351018.0   556273.0   455582.0   \n",
       "18   United States  1756014.0  1135403.0  815332.0  1761816.0  3797231.0   \n",
       "\n",
       "         2010       total  probability  \n",
       "0    333449.0   1647232.0     0.071697  \n",
       "1      2425.0    138877.0     0.006045  \n",
       "2   1246427.0   3397654.0     0.147885  \n",
       "3    123465.0    352464.0     0.015341  \n",
       "4      9482.0     62257.0     0.002710  \n",
       "5      9573.0     28254.0     0.001230  \n",
       "6    333632.0    894371.0     0.038928  \n",
       "7    244902.0    954501.0     0.041545  \n",
       "8     53602.0    320784.0     0.013962  \n",
       "9     96241.0    216627.0     0.009429  \n",
       "10     2236.0     23542.0     0.001025  \n",
       "11    53853.0    369192.0     0.016069  \n",
       "12    57406.0    332718.0     0.014482  \n",
       "13    54250.0    128619.0     0.005598  \n",
       "14    28149.0    150814.0     0.006564  \n",
       "15   106105.0    392713.0     0.017093  \n",
       "16    19224.0    169539.0     0.007379  \n",
       "17   774424.0   2342430.0     0.101956  \n",
       "18  1786532.0  11052328.0     0.481061  "
      ],
      "text/html": "<div>\n<style scoped>\n    .dataframe tbody tr th:only-of-type {\n        vertical-align: middle;\n    }\n\n    .dataframe tbody tr th {\n        vertical-align: top;\n    }\n\n    .dataframe thead th {\n        text-align: right;\n    }\n</style>\n<table border=\"1\" class=\"dataframe\">\n  <thead>\n    <tr style=\"text-align: right;\">\n      <th></th>\n      <th>country_to</th>\n      <th>1985</th>\n      <th>1990</th>\n      <th>1995</th>\n      <th>2000</th>\n      <th>2005</th>\n      <th>2010</th>\n      <th>total</th>\n      <th>probability</th>\n    </tr>\n  </thead>\n  <tbody>\n    <tr>\n      <th>0</th>\n      <td>Australia</td>\n      <td>195239.0</td>\n      <td>314210.0</td>\n      <td>235695.0</td>\n      <td>268554.0</td>\n      <td>300085.0</td>\n      <td>333449.0</td>\n      <td>1647232.0</td>\n      <td>0.071697</td>\n    </tr>\n    <tr>\n      <th>1</th>\n      <td>Austria</td>\n      <td>3677.0</td>\n      <td>26282.0</td>\n      <td>24764.0</td>\n      <td>23404.0</td>\n      <td>58325.0</td>\n      <td>2425.0</td>\n      <td>138877.0</td>\n      <td>0.006045</td>\n    </tr>\n    <tr>\n      <th>2</th>\n      <td>Canada</td>\n      <td>119440.0</td>\n      <td>384988.0</td>\n      <td>415132.0</td>\n      <td>415620.0</td>\n      <td>816047.0</td>\n      <td>1246427.0</td>\n      <td>3397654.0</td>\n      <td>0.147885</td>\n    </tr>\n    <tr>\n      <th>3</th>\n      <td>Chile</td>\n      <td>4412.0</td>\n      <td>39782.0</td>\n      <td>45538.0</td>\n      <td>71442.0</td>\n      <td>67825.0</td>\n      <td>123465.0</td>\n      <td>352464.0</td>\n      <td>0.015341</td>\n    </tr>\n    <tr>\n      <th>4</th>\n      <td>Denmark</td>\n      <td>2895.0</td>\n      <td>7033.0</td>\n      <td>11852.0</td>\n      <td>19620.0</td>\n      <td>11375.0</td>\n      <td>9482.0</td>\n      <td>62257.0</td>\n      <td>0.002710</td>\n    </tr>\n    <tr>\n      <th>5</th>\n      <td>Finland</td>\n      <td>237.0</td>\n      <td>718.0</td>\n      <td>5618.0</td>\n      <td>5772.0</td>\n      <td>6336.0</td>\n      <td>9573.0</td>\n      <td>28254.0</td>\n      <td>0.001230</td>\n    </tr>\n    <tr>\n      <th>6</th>\n      <td>France</td>\n      <td>60836.0</td>\n      <td>105866.0</td>\n      <td>110572.0</td>\n      <td>162740.0</td>\n      <td>120725.0</td>\n      <td>333632.0</td>\n      <td>894371.0</td>\n      <td>0.038928</td>\n    </tr>\n    <tr>\n      <th>7</th>\n      <td>Germany</td>\n      <td>23414.0</td>\n      <td>60340.0</td>\n      <td>372388.0</td>\n      <td>78881.0</td>\n      <td>174576.0</td>\n      <td>244902.0</td>\n      <td>954501.0</td>\n      <td>0.041545</td>\n    </tr>\n    <tr>\n      <th>8</th>\n      <td>Greece</td>\n      <td>18637.0</td>\n      <td>4.0</td>\n      <td>30835.0</td>\n      <td>94431.0</td>\n      <td>123275.0</td>\n      <td>53602.0</td>\n      <td>320784.0</td>\n      <td>0.013962</td>\n    </tr>\n    <tr>\n      <th>9</th>\n      <td>Ireland</td>\n      <td>9155.0</td>\n      <td>6640.0</td>\n      <td>19181.0</td>\n      <td>41190.0</td>\n      <td>44220.0</td>\n      <td>96241.0</td>\n      <td>216627.0</td>\n      <td>0.009429</td>\n    </tr>\n    <tr>\n      <th>10</th>\n      <td>Luxembourg</td>\n      <td>908.0</td>\n      <td>1113.0</td>\n      <td>7603.0</td>\n      <td>9761.0</td>\n      <td>1921.0</td>\n      <td>2236.0</td>\n      <td>23542.0</td>\n      <td>0.001025</td>\n    </tr>\n    <tr>\n      <th>11</th>\n      <td>Netherlands</td>\n      <td>32091.0</td>\n      <td>60204.0</td>\n      <td>44935.0</td>\n      <td>82328.0</td>\n      <td>95781.0</td>\n      <td>53853.0</td>\n      <td>369192.0</td>\n      <td>0.016069</td>\n    </tr>\n    <tr>\n      <th>12</th>\n      <td>New Zealand</td>\n      <td>56410.0</td>\n      <td>35015.0</td>\n      <td>10924.0</td>\n      <td>25864.0</td>\n      <td>147099.0</td>\n      <td>57406.0</td>\n      <td>332718.0</td>\n      <td>0.014482</td>\n    </tr>\n    <tr>\n      <th>13</th>\n      <td>Norway</td>\n      <td>6016.0</td>\n      <td>11037.0</td>\n      <td>12314.0</td>\n      <td>18146.0</td>\n      <td>26856.0</td>\n      <td>54250.0</td>\n      <td>128619.0</td>\n      <td>0.005598</td>\n    </tr>\n    <tr>\n      <th>14</th>\n      <td>Portugal</td>\n      <td>19311.0</td>\n      <td>1732.0</td>\n      <td>23909.0</td>\n      <td>40830.0</td>\n      <td>36883.0</td>\n      <td>28149.0</td>\n      <td>150814.0</td>\n      <td>0.006564</td>\n    </tr>\n    <tr>\n      <th>15</th>\n      <td>Sweden</td>\n      <td>105850.0</td>\n      <td>33515.0</td>\n      <td>44970.0</td>\n      <td>41553.0</td>\n      <td>60720.0</td>\n      <td>106105.0</td>\n      <td>392713.0</td>\n      <td>0.017093</td>\n    </tr>\n    <tr>\n      <th>16</th>\n      <td>Switzerland</td>\n      <td>21361.0</td>\n      <td>38843.0</td>\n      <td>34979.0</td>\n      <td>49534.0</td>\n      <td>5598.0</td>\n      <td>19224.0</td>\n      <td>169539.0</td>\n      <td>0.007379</td>\n    </tr>\n    <tr>\n      <th>17</th>\n      <td>United Kingdom</td>\n      <td>97741.0</td>\n      <td>107392.0</td>\n      <td>351018.0</td>\n      <td>556273.0</td>\n      <td>455582.0</td>\n      <td>774424.0</td>\n      <td>2342430.0</td>\n      <td>0.101956</td>\n    </tr>\n    <tr>\n      <th>18</th>\n      <td>United States</td>\n      <td>1756014.0</td>\n      <td>1135403.0</td>\n      <td>815332.0</td>\n      <td>1761816.0</td>\n      <td>3797231.0</td>\n      <td>1786532.0</td>\n      <td>11052328.0</td>\n      <td>0.481061</td>\n    </tr>\n  </tbody>\n</table>\n</div>"
     },
     "metadata": {},
     "execution_count": 36
    }
   ],
   "source": [
    "# Regression_data_df = pd.read_excel('../data/Country_probabilities.xlsx',usecols=['country_to','probability','GDP per capita',\n",
    "#                                                                         'Gov Expend Education','Life Expectency','Education'])\n",
    "\n",
    "Regression_data_df = pd.read_csv('../data/Country_probabilities.csv')\n",
    "Regression_data_df"
   ]
  },
  {
   "cell_type": "code",
   "execution_count": 80,
   "metadata": {
    "ExecuteTime": {
     "end_time": "2021-05-26T16:20:31.257060Z",
     "start_time": "2021-05-26T16:20:31.245093Z"
    }
   },
   "outputs": [
    {
     "data": {
      "text/html": [
       "<div>\n",
       "<style scoped>\n",
       "    .dataframe tbody tr th:only-of-type {\n",
       "        vertical-align: middle;\n",
       "    }\n",
       "\n",
       "    .dataframe tbody tr th {\n",
       "        vertical-align: top;\n",
       "    }\n",
       "\n",
       "    .dataframe thead th {\n",
       "        text-align: right;\n",
       "    }\n",
       "</style>\n",
       "<table border=\"1\" class=\"dataframe\">\n",
       "  <thead>\n",
       "    <tr style=\"text-align: right;\">\n",
       "      <th></th>\n",
       "      <th>country_to</th>\n",
       "      <th>probability</th>\n",
       "      <th>GDP per capita</th>\n",
       "      <th>Gov Expend Education</th>\n",
       "      <th>Life Expectency</th>\n",
       "      <th>Education</th>\n",
       "    </tr>\n",
       "  </thead>\n",
       "  <tbody>\n",
       "    <tr>\n",
       "      <td>0</td>\n",
       "      <td>Australia</td>\n",
       "      <td>0.071697</td>\n",
       "      <td>22404.555431</td>\n",
       "      <td>13.705685</td>\n",
       "      <td>78.126892</td>\n",
       "      <td>0.890143</td>\n",
       "    </tr>\n",
       "    <tr>\n",
       "      <td>1</td>\n",
       "      <td>Austria</td>\n",
       "      <td>0.006045</td>\n",
       "      <td>25772.203325</td>\n",
       "      <td>10.856180</td>\n",
       "      <td>76.711880</td>\n",
       "      <td>0.737476</td>\n",
       "    </tr>\n",
       "    <tr>\n",
       "      <td>2</td>\n",
       "      <td>Canada</td>\n",
       "      <td>0.147885</td>\n",
       "      <td>24102.835096</td>\n",
       "      <td>13.260528</td>\n",
       "      <td>78.207474</td>\n",
       "      <td>0.824381</td>\n",
       "    </tr>\n",
       "    <tr>\n",
       "      <td>3</td>\n",
       "      <td>Chile</td>\n",
       "      <td>0.015341</td>\n",
       "      <td>4814.913566</td>\n",
       "      <td>16.103320</td>\n",
       "      <td>74.686194</td>\n",
       "      <td>0.677238</td>\n",
       "    </tr>\n",
       "    <tr>\n",
       "      <td>4</td>\n",
       "      <td>Denmark</td>\n",
       "      <td>0.002710</td>\n",
       "      <td>31924.575377</td>\n",
       "      <td>14.100664</td>\n",
       "      <td>75.974524</td>\n",
       "      <td>0.813143</td>\n",
       "    </tr>\n",
       "    <tr>\n",
       "      <td>5</td>\n",
       "      <td>Finland</td>\n",
       "      <td>0.001230</td>\n",
       "      <td>26160.778737</td>\n",
       "      <td>11.964859</td>\n",
       "      <td>76.516027</td>\n",
       "      <td>0.801381</td>\n",
       "    </tr>\n",
       "    <tr>\n",
       "      <td>6</td>\n",
       "      <td>France</td>\n",
       "      <td>0.038928</td>\n",
       "      <td>23937.132265</td>\n",
       "      <td>10.285706</td>\n",
       "      <td>77.800079</td>\n",
       "      <td>0.735286</td>\n",
       "    </tr>\n",
       "    <tr>\n",
       "      <td>7</td>\n",
       "      <td>Germany</td>\n",
       "      <td>0.041545</td>\n",
       "      <td>24903.155388</td>\n",
       "      <td>9.606595</td>\n",
       "      <td>76.498740</td>\n",
       "      <td>0.822810</td>\n",
       "    </tr>\n",
       "    <tr>\n",
       "      <td>8</td>\n",
       "      <td>Greece</td>\n",
       "      <td>0.013962</td>\n",
       "      <td>13627.343694</td>\n",
       "      <td>7.185135</td>\n",
       "      <td>77.323459</td>\n",
       "      <td>0.692190</td>\n",
       "    </tr>\n",
       "    <tr>\n",
       "      <td>9</td>\n",
       "      <td>Ireland</td>\n",
       "      <td>0.009429</td>\n",
       "      <td>24767.871497</td>\n",
       "      <td>12.128671</td>\n",
       "      <td>76.083478</td>\n",
       "      <td>0.789048</td>\n",
       "    </tr>\n",
       "    <tr>\n",
       "      <td>10</td>\n",
       "      <td>Luxembourg</td>\n",
       "      <td>0.001025</td>\n",
       "      <td>49007.315866</td>\n",
       "      <td>8.995115</td>\n",
       "      <td>76.376480</td>\n",
       "      <td>0.700333</td>\n",
       "    </tr>\n",
       "    <tr>\n",
       "      <td>11</td>\n",
       "      <td>Netherlands</td>\n",
       "      <td>0.016069</td>\n",
       "      <td>27301.941245</td>\n",
       "      <td>10.967681</td>\n",
       "      <td>77.722305</td>\n",
       "      <td>0.820476</td>\n",
       "    </tr>\n",
       "    <tr>\n",
       "      <td>12</td>\n",
       "      <td>New Zealand</td>\n",
       "      <td>0.014482</td>\n",
       "      <td>16623.629360</td>\n",
       "      <td>13.997931</td>\n",
       "      <td>76.905193</td>\n",
       "      <td>0.863905</td>\n",
       "    </tr>\n",
       "    <tr>\n",
       "      <td>13</td>\n",
       "      <td>Norway</td>\n",
       "      <td>0.005598</td>\n",
       "      <td>39512.869180</td>\n",
       "      <td>15.232263</td>\n",
       "      <td>77.928851</td>\n",
       "      <td>0.862810</td>\n",
       "    </tr>\n",
       "    <tr>\n",
       "      <td>14</td>\n",
       "      <td>Portugal</td>\n",
       "      <td>0.006564</td>\n",
       "      <td>11195.411909</td>\n",
       "      <td>10.847349</td>\n",
       "      <td>75.267978</td>\n",
       "      <td>0.650190</td>\n",
       "    </tr>\n",
       "    <tr>\n",
       "      <td>15</td>\n",
       "      <td>Sweden</td>\n",
       "      <td>0.017093</td>\n",
       "      <td>30427.125298</td>\n",
       "      <td>11.566375</td>\n",
       "      <td>78.658891</td>\n",
       "      <td>0.830762</td>\n",
       "    </tr>\n",
       "    <tr>\n",
       "      <td>16</td>\n",
       "      <td>Switzerland</td>\n",
       "      <td>0.007379</td>\n",
       "      <td>40189.642089</td>\n",
       "      <td>15.770315</td>\n",
       "      <td>78.781361</td>\n",
       "      <td>0.784905</td>\n",
       "    </tr>\n",
       "    <tr>\n",
       "      <td>17</td>\n",
       "      <td>United Kingdom</td>\n",
       "      <td>0.101956</td>\n",
       "      <td>24587.277741</td>\n",
       "      <td>11.967528</td>\n",
       "      <td>76.873997</td>\n",
       "      <td>0.811238</td>\n",
       "    </tr>\n",
       "    <tr>\n",
       "      <td>18</td>\n",
       "      <td>United States</td>\n",
       "      <td>0.481061</td>\n",
       "      <td>30178.323694</td>\n",
       "      <td>NaN</td>\n",
       "      <td>76.009048</td>\n",
       "      <td>0.862810</td>\n",
       "    </tr>\n",
       "  </tbody>\n",
       "</table>\n",
       "</div>"
      ],
      "text/plain": [
       "        country_to  probability  GDP per capita  Gov Expend Education  \\\n",
       "0        Australia     0.071697    22404.555431             13.705685   \n",
       "1          Austria     0.006045    25772.203325             10.856180   \n",
       "2           Canada     0.147885    24102.835096             13.260528   \n",
       "3            Chile     0.015341     4814.913566             16.103320   \n",
       "4          Denmark     0.002710    31924.575377             14.100664   \n",
       "5          Finland     0.001230    26160.778737             11.964859   \n",
       "6           France     0.038928    23937.132265             10.285706   \n",
       "7          Germany     0.041545    24903.155388              9.606595   \n",
       "8           Greece     0.013962    13627.343694              7.185135   \n",
       "9          Ireland     0.009429    24767.871497             12.128671   \n",
       "10      Luxembourg     0.001025    49007.315866              8.995115   \n",
       "11     Netherlands     0.016069    27301.941245             10.967681   \n",
       "12     New Zealand     0.014482    16623.629360             13.997931   \n",
       "13          Norway     0.005598    39512.869180             15.232263   \n",
       "14        Portugal     0.006564    11195.411909             10.847349   \n",
       "15          Sweden     0.017093    30427.125298             11.566375   \n",
       "16     Switzerland     0.007379    40189.642089             15.770315   \n",
       "17  United Kingdom     0.101956    24587.277741             11.967528   \n",
       "18   United States     0.481061    30178.323694                   NaN   \n",
       "\n",
       "    Life Expectency  Education  \n",
       "0         78.126892   0.890143  \n",
       "1         76.711880   0.737476  \n",
       "2         78.207474   0.824381  \n",
       "3         74.686194   0.677238  \n",
       "4         75.974524   0.813143  \n",
       "5         76.516027   0.801381  \n",
       "6         77.800079   0.735286  \n",
       "7         76.498740   0.822810  \n",
       "8         77.323459   0.692190  \n",
       "9         76.083478   0.789048  \n",
       "10        76.376480   0.700333  \n",
       "11        77.722305   0.820476  \n",
       "12        76.905193   0.863905  \n",
       "13        77.928851   0.862810  \n",
       "14        75.267978   0.650190  \n",
       "15        78.658891   0.830762  \n",
       "16        78.781361   0.784905  \n",
       "17        76.873997   0.811238  \n",
       "18        76.009048   0.862810  "
      ]
     },
     "execution_count": 80,
     "metadata": {},
     "output_type": "execute_result"
    }
   ],
   "source": [
    "Regression_data_df"
   ]
  },
  {
   "cell_type": "code",
   "execution_count": 84,
   "metadata": {
    "ExecuteTime": {
     "end_time": "2021-05-26T16:25:55.733593Z",
     "start_time": "2021-05-26T16:25:55.718634Z"
    }
   },
   "outputs": [
    {
     "data": {
      "text/plain": [
       "array([[-0.34413709,  0.66765567,  1.05094964,  1.50523217],\n",
       "       [-0.00924839, -0.54840487, -0.23581997, -0.7428361 ],\n",
       "       [-0.17525522,  0.47767927,  1.12422871,  0.53686589],\n",
       "       [-2.09330224,  1.69087491, -2.0779193 , -1.62986241],\n",
       "       [ 0.60256139,  0.83621729, -0.90634994,  0.37138114],\n",
       "       [ 0.02939268, -0.07526259, -0.41392346,  0.19818312],\n",
       "       [-0.19173319, -0.79186134,  0.75375514, -0.7750916 ],\n",
       "       [-0.09566904, -1.08167998, -0.42964319,  0.51372608],\n",
       "       [-1.21696856, -2.11506681,  0.32033183, -1.40968355],\n",
       "       [-0.10912207, -0.00535397, -0.8072708 ,  0.01657062],\n",
       "       [ 2.30131879, -1.3426362 , -0.54082318, -1.28977722],\n",
       "       [ 0.1428732 , -0.50082045,  0.68303032,  0.47936696],\n",
       "       [-0.91900919,  0.79237496, -0.06002747,  1.11886735],\n",
       "       [ 1.35716339,  1.31914078,  0.87085713,  1.1027396 ],\n",
       "       [-1.45880693, -0.55217357, -1.54886187, -2.02814774],\n",
       "       [ 0.45365059, -0.24532043,  1.53473317,  0.63082757],\n",
       "       [ 1.42446366,  1.54876107,  1.64610419, -0.04443435],\n",
       "       [-0.12708083, -0.07412375, -0.0883961 ,  0.34333288],\n",
       "       [ 0.42890904,         nan, -0.87495485,  1.1027396 ]])"
      ]
     },
     "execution_count": 84,
     "metadata": {},
     "output_type": "execute_result"
    }
   ],
   "source": [
    "from sklearn.preprocessing import StandardScaler\n",
    "scaler = StandardScaler()\n",
    "X = Regression_data_df.drop(['country_to','probability'],axis=1)\n",
    "X = scaler.fit_transform(X)\n",
    "X"
   ]
  },
  {
   "source": [
    "# finding betas with final dataset"
   ],
   "cell_type": "markdown",
   "metadata": {}
  },
  {
   "cell_type": "code",
   "execution_count": 6,
   "metadata": {},
   "outputs": [
    {
     "output_type": "execute_result",
     "data": {
      "text/plain": [
       "  country_from    1980    1981    1982    1983    1984    1985    1986  \\\n",
       "0  Afghanistan     0.0     0.0     0.0     0.0     0.0     0.0   224.8   \n",
       "1      Albania   198.0   193.2   188.4   183.6   178.8   174.0   177.0   \n",
       "2      Algeria     0.0     0.0     0.0     0.0     0.0     0.0    65.4   \n",
       "3    Argentina  2079.0  2222.0  2365.0  2508.0  2651.0  2794.0  3026.8   \n",
       "4      Armenia   114.0   112.8   111.6   110.4   109.2   108.0   152.2   \n",
       "\n",
       "     1987    1988  ...    2003    2004    2005    2006    2007    2008  \\\n",
       "0   449.6   674.4  ...  4273.4  4413.2  4553.0  4709.0  4865.0  5021.0   \n",
       "1   180.0   183.0  ...   515.8   532.4   549.0   567.4   585.8   604.2   \n",
       "2   130.8   196.2  ...   607.4   626.2   645.0   665.8   686.6   707.4   \n",
       "3  3259.6  3492.4  ...  5820.0  6024.0  6228.0  6454.6  6681.2  6907.8   \n",
       "4   196.4   240.6  ...   469.8   486.4   503.0   521.6   540.2   558.8   \n",
       "\n",
       "     2009    2010  country_to    total  \n",
       "0  5177.0  5333.0   Australia  17103.0  \n",
       "1   622.6   641.0   Australia   2454.0  \n",
       "2   728.2   749.0   Australia   2672.0  \n",
       "3  7134.4  7361.0   Australia  32302.0  \n",
       "4   577.4   596.0   Australia   2434.0  \n",
       "\n",
       "[5 rows x 34 columns]"
      ],
      "text/html": "<div>\n<style scoped>\n    .dataframe tbody tr th:only-of-type {\n        vertical-align: middle;\n    }\n\n    .dataframe tbody tr th {\n        vertical-align: top;\n    }\n\n    .dataframe thead th {\n        text-align: right;\n    }\n</style>\n<table border=\"1\" class=\"dataframe\">\n  <thead>\n    <tr style=\"text-align: right;\">\n      <th></th>\n      <th>country_from</th>\n      <th>1980</th>\n      <th>1981</th>\n      <th>1982</th>\n      <th>1983</th>\n      <th>1984</th>\n      <th>1985</th>\n      <th>1986</th>\n      <th>1987</th>\n      <th>1988</th>\n      <th>...</th>\n      <th>2003</th>\n      <th>2004</th>\n      <th>2005</th>\n      <th>2006</th>\n      <th>2007</th>\n      <th>2008</th>\n      <th>2009</th>\n      <th>2010</th>\n      <th>country_to</th>\n      <th>total</th>\n    </tr>\n  </thead>\n  <tbody>\n    <tr>\n      <th>0</th>\n      <td>Afghanistan</td>\n      <td>0.0</td>\n      <td>0.0</td>\n      <td>0.0</td>\n      <td>0.0</td>\n      <td>0.0</td>\n      <td>0.0</td>\n      <td>224.8</td>\n      <td>449.6</td>\n      <td>674.4</td>\n      <td>...</td>\n      <td>4273.4</td>\n      <td>4413.2</td>\n      <td>4553.0</td>\n      <td>4709.0</td>\n      <td>4865.0</td>\n      <td>5021.0</td>\n      <td>5177.0</td>\n      <td>5333.0</td>\n      <td>Australia</td>\n      <td>17103.0</td>\n    </tr>\n    <tr>\n      <th>1</th>\n      <td>Albania</td>\n      <td>198.0</td>\n      <td>193.2</td>\n      <td>188.4</td>\n      <td>183.6</td>\n      <td>178.8</td>\n      <td>174.0</td>\n      <td>177.0</td>\n      <td>180.0</td>\n      <td>183.0</td>\n      <td>...</td>\n      <td>515.8</td>\n      <td>532.4</td>\n      <td>549.0</td>\n      <td>567.4</td>\n      <td>585.8</td>\n      <td>604.2</td>\n      <td>622.6</td>\n      <td>641.0</td>\n      <td>Australia</td>\n      <td>2454.0</td>\n    </tr>\n    <tr>\n      <th>2</th>\n      <td>Algeria</td>\n      <td>0.0</td>\n      <td>0.0</td>\n      <td>0.0</td>\n      <td>0.0</td>\n      <td>0.0</td>\n      <td>0.0</td>\n      <td>65.4</td>\n      <td>130.8</td>\n      <td>196.2</td>\n      <td>...</td>\n      <td>607.4</td>\n      <td>626.2</td>\n      <td>645.0</td>\n      <td>665.8</td>\n      <td>686.6</td>\n      <td>707.4</td>\n      <td>728.2</td>\n      <td>749.0</td>\n      <td>Australia</td>\n      <td>2672.0</td>\n    </tr>\n    <tr>\n      <th>3</th>\n      <td>Argentina</td>\n      <td>2079.0</td>\n      <td>2222.0</td>\n      <td>2365.0</td>\n      <td>2508.0</td>\n      <td>2651.0</td>\n      <td>2794.0</td>\n      <td>3026.8</td>\n      <td>3259.6</td>\n      <td>3492.4</td>\n      <td>...</td>\n      <td>5820.0</td>\n      <td>6024.0</td>\n      <td>6228.0</td>\n      <td>6454.6</td>\n      <td>6681.2</td>\n      <td>6907.8</td>\n      <td>7134.4</td>\n      <td>7361.0</td>\n      <td>Australia</td>\n      <td>32302.0</td>\n    </tr>\n    <tr>\n      <th>4</th>\n      <td>Armenia</td>\n      <td>114.0</td>\n      <td>112.8</td>\n      <td>111.6</td>\n      <td>110.4</td>\n      <td>109.2</td>\n      <td>108.0</td>\n      <td>152.2</td>\n      <td>196.4</td>\n      <td>240.6</td>\n      <td>...</td>\n      <td>469.8</td>\n      <td>486.4</td>\n      <td>503.0</td>\n      <td>521.6</td>\n      <td>540.2</td>\n      <td>558.8</td>\n      <td>577.4</td>\n      <td>596.0</td>\n      <td>Australia</td>\n      <td>2434.0</td>\n    </tr>\n  </tbody>\n</table>\n<p>5 rows × 34 columns</p>\n</div>"
     },
     "metadata": {},
     "execution_count": 6
    }
   ],
   "source": [
    "migration_stats = pd.read_csv('../data/all_emigrants_high_interpolated.csv').drop('Unnamed: 0', axis=1)\n",
    "migration_stats.head()"
   ]
  },
  {
   "cell_type": "code",
   "execution_count": 40,
   "metadata": {},
   "outputs": [
    {
     "output_type": "execute_result",
     "data": {
      "text/plain": [
       "                     1980       1981       1982       1983       1984  \\\n",
       "country_to                                                              \n",
       "Australia        622998.0   661658.4   700318.8   738979.2   777639.6   \n",
       "Austria           18567.0    19197.0    19827.0    20457.0    21087.0   \n",
       "Canada          1159153.0  1176426.4  1193699.8  1210973.2  1228246.6   \n",
       "Chile             12605.0    13322.2    14039.4    14756.6    15473.8   \n",
       "Denmark           13624.0    14203.0    14782.0    15361.0    15940.0   \n",
       "Finland            2310.0     2339.0     2368.0     2397.0     2426.0   \n",
       "France           165196.0   177153.6   189111.2   201068.8   213026.4   \n",
       "Germany          409250.0   396510.8   383771.6   371032.4   358293.2   \n",
       "Greece            18747.0    22474.4    26201.8    29929.2    33656.6   \n",
       "Ireland           19469.0    21134.2    22799.4    24464.6    26129.8   \n",
       "Luxembourg         8957.0     9078.0     9199.0     9320.0     9441.0   \n",
       "Netherlands       33542.0    39960.2    46378.4    52796.6    59214.8   \n",
       "New Zealand       81494.0    92776.0   104058.0   115340.0   126622.0   \n",
       "Norway            13719.0    14922.2    16125.4    17328.6    18531.8   \n",
       "Portugal          18098.0    21960.2    25822.4    29684.6    33546.8   \n",
       "Sweden           338425.0   359595.0   380765.0   401935.0   423105.0   \n",
       "Switzerland      120676.0   123873.6   127071.2   130268.8   133466.4   \n",
       "United Kingdom   507673.0   510434.4   513195.8   515957.2   518718.6   \n",
       "United States   2776484.0  3127658.0  3478832.0  3830006.0  4181180.0   \n",
       "\n",
       "                     1985       1986       1987       1988       1989  ...  \\\n",
       "country_to                                                             ...   \n",
       "Australia        816300.0   877398.6   938497.2   999595.8  1060694.4  ...   \n",
       "Austria           21717.0    26973.4    32229.8    37486.2    42742.6  ...   \n",
       "Canada          1245520.0  1322490.6  1399461.2  1476431.8  1553402.4  ...   \n",
       "Chile             16191.0    23994.8    31798.6    39602.4    47406.2  ...   \n",
       "Denmark           16519.0    17925.6    19332.2    20738.8    22145.4  ...   \n",
       "Finland            2455.0     2591.8     2728.6     2865.4     3002.2  ...   \n",
       "France           224984.0   246040.4   267096.8   288153.2   309209.6  ...   \n",
       "Germany          345554.0   346655.6   347757.2   348858.8   349960.4  ...   \n",
       "Greece            37384.0    33798.4    30212.8    26627.2    23041.6  ...   \n",
       "Ireland           27795.0    29107.2    30419.4    31731.6    33043.8  ...   \n",
       "Luxembourg         9562.0     9680.8     9799.6     9918.4    10037.2  ...   \n",
       "Netherlands       65633.0    77673.8    89714.6   101755.4   113796.2  ...   \n",
       "New Zealand      137904.0   144896.6   151889.2   158881.8   165874.4  ...   \n",
       "Norway            19735.0    21853.4    23971.8    26090.2    28208.6  ...   \n",
       "Portugal          37409.0    37471.2    37533.4    37595.6    37657.8  ...   \n",
       "Sweden           444275.0   376110.6   307946.2   239781.8   171617.4  ...   \n",
       "Switzerland      136664.0   143309.4   149954.8   156600.2   163245.6  ...   \n",
       "United Kingdom   521480.0   527365.4   533250.8   539136.2   545021.6  ...   \n",
       "United States   4532354.0  4752828.4  4973302.8  5193777.2  5414251.6  ...   \n",
       "\n",
       "                     2001       2002        2003        2004        2005  \\\n",
       "country_to                                                                 \n",
       "Australia       1623941.0  1683958.0   1743975.0   1803992.0   1864009.0   \n",
       "Austria          106481.0   118146.0    129811.0    141476.0    153141.0   \n",
       "Canada          2610520.6  2773486.2   2936451.8   3099417.4   3262383.0   \n",
       "Chile            185755.0   199320.0    212885.0    226450.0    240015.0   \n",
       "Denmark           57286.6    59549.2     61811.8     64074.4     66337.0   \n",
       "Finland           15796.2    17063.4     18330.6     19597.8     20865.0   \n",
       "France           624607.0   648752.0    672897.0    697042.0    721187.0   \n",
       "Germany          803993.6   828417.2    852840.8    877264.4    901688.0   \n",
       "Greece           155298.0   179953.0    204608.0    229263.0    253918.0   \n",
       "Ireland          103527.0   112371.0    121215.0    130059.0    138903.0   \n",
       "Luxembourg        17791.2    18175.4     18559.6     18943.8     19328.0   \n",
       "Netherlands      245286.4   260982.8    276679.2    292375.6    308072.0   \n",
       "New Zealand      191521.2   214877.4    238233.6    261589.8    284946.0   \n",
       "Norway            60476.2    65208.4     69940.6     74672.8     79405.0   \n",
       "Portugal         109681.6   117058.2    124434.8    131811.4    139188.0   \n",
       "Sweden           202120.0   214264.0    226408.0    238552.0    250696.0   \n",
       "Switzerland      253623.6   254743.2    255862.8    256982.4    258102.0   \n",
       "United Kingdom  1320669.4  1411785.8   1502902.2   1594018.6   1685135.0   \n",
       "United States   8886622.2  9624678.4  10362734.6  11100790.8  11838847.0   \n",
       "\n",
       "                      2006        2007        2008        2009        2010  \n",
       "country_to                                                                  \n",
       "Australia        1930698.8   1997388.6   2064078.4   2130768.2   2197458.0  \n",
       "Austria           153613.4    154085.8    154558.2    155030.6    155503.0  \n",
       "Canada           3511668.4   3760953.8   4010239.2   4259524.6   4508810.0  \n",
       "Chile             264708.0    289401.0    314094.0    338787.0    363480.0  \n",
       "Denmark            68163.6     69990.2     71816.8     73643.4     75470.0  \n",
       "Finland            22779.6     24694.2     26608.8     28523.4     30438.0  \n",
       "France            786677.6    852168.2    917658.8    983149.4   1048640.0  \n",
       "Germany           942150.2    982612.4   1023074.6   1063536.8   1103999.0  \n",
       "Greece            264638.4    275358.8    286079.2    296799.6    307520.0  \n",
       "Ireland           158151.2    177399.4    196647.6    215895.8    235144.0  \n",
       "Luxembourg         19775.2     20222.4     20669.6     21116.8     21564.0  \n",
       "Netherlands       318713.8    329355.6    339997.4    350639.2    361281.0  \n",
       "New Zealand       281936.2    278926.4    275916.6    272906.8    269897.0  \n",
       "Norway             90255.0    101105.0    111955.0    122805.0    133655.0  \n",
       "Portugal          144817.8    150447.6    156077.4    161707.2    167337.0  \n",
       "Sweden            271917.0    293138.0    314359.0    335580.0    356801.0  \n",
       "Switzerland       261946.8    265791.6    269636.4    273481.2    277326.0  \n",
       "United Kingdom   1840019.8   1994904.6   2149789.4   2304674.2   2459559.0  \n",
       "United States   12190943.2  12543039.4  12895135.6  13247231.8  13599328.0  \n",
       "\n",
       "[19 rows x 31 columns]"
      ],
      "text/html": "<div>\n<style scoped>\n    .dataframe tbody tr th:only-of-type {\n        vertical-align: middle;\n    }\n\n    .dataframe tbody tr th {\n        vertical-align: top;\n    }\n\n    .dataframe thead th {\n        text-align: right;\n    }\n</style>\n<table border=\"1\" class=\"dataframe\">\n  <thead>\n    <tr style=\"text-align: right;\">\n      <th></th>\n      <th>1980</th>\n      <th>1981</th>\n      <th>1982</th>\n      <th>1983</th>\n      <th>1984</th>\n      <th>1985</th>\n      <th>1986</th>\n      <th>1987</th>\n      <th>1988</th>\n      <th>1989</th>\n      <th>...</th>\n      <th>2001</th>\n      <th>2002</th>\n      <th>2003</th>\n      <th>2004</th>\n      <th>2005</th>\n      <th>2006</th>\n      <th>2007</th>\n      <th>2008</th>\n      <th>2009</th>\n      <th>2010</th>\n    </tr>\n    <tr>\n      <th>country_to</th>\n      <th></th>\n      <th></th>\n      <th></th>\n      <th></th>\n      <th></th>\n      <th></th>\n      <th></th>\n      <th></th>\n      <th></th>\n      <th></th>\n      <th></th>\n      <th></th>\n      <th></th>\n      <th></th>\n      <th></th>\n      <th></th>\n      <th></th>\n      <th></th>\n      <th></th>\n      <th></th>\n      <th></th>\n    </tr>\n  </thead>\n  <tbody>\n    <tr>\n      <th>Australia</th>\n      <td>622998.0</td>\n      <td>661658.4</td>\n      <td>700318.8</td>\n      <td>738979.2</td>\n      <td>777639.6</td>\n      <td>816300.0</td>\n      <td>877398.6</td>\n      <td>938497.2</td>\n      <td>999595.8</td>\n      <td>1060694.4</td>\n      <td>...</td>\n      <td>1623941.0</td>\n      <td>1683958.0</td>\n      <td>1743975.0</td>\n      <td>1803992.0</td>\n      <td>1864009.0</td>\n      <td>1930698.8</td>\n      <td>1997388.6</td>\n      <td>2064078.4</td>\n      <td>2130768.2</td>\n      <td>2197458.0</td>\n    </tr>\n    <tr>\n      <th>Austria</th>\n      <td>18567.0</td>\n      <td>19197.0</td>\n      <td>19827.0</td>\n      <td>20457.0</td>\n      <td>21087.0</td>\n      <td>21717.0</td>\n      <td>26973.4</td>\n      <td>32229.8</td>\n      <td>37486.2</td>\n      <td>42742.6</td>\n      <td>...</td>\n      <td>106481.0</td>\n      <td>118146.0</td>\n      <td>129811.0</td>\n      <td>141476.0</td>\n      <td>153141.0</td>\n      <td>153613.4</td>\n      <td>154085.8</td>\n      <td>154558.2</td>\n      <td>155030.6</td>\n      <td>155503.0</td>\n    </tr>\n    <tr>\n      <th>Canada</th>\n      <td>1159153.0</td>\n      <td>1176426.4</td>\n      <td>1193699.8</td>\n      <td>1210973.2</td>\n      <td>1228246.6</td>\n      <td>1245520.0</td>\n      <td>1322490.6</td>\n      <td>1399461.2</td>\n      <td>1476431.8</td>\n      <td>1553402.4</td>\n      <td>...</td>\n      <td>2610520.6</td>\n      <td>2773486.2</td>\n      <td>2936451.8</td>\n      <td>3099417.4</td>\n      <td>3262383.0</td>\n      <td>3511668.4</td>\n      <td>3760953.8</td>\n      <td>4010239.2</td>\n      <td>4259524.6</td>\n      <td>4508810.0</td>\n    </tr>\n    <tr>\n      <th>Chile</th>\n      <td>12605.0</td>\n      <td>13322.2</td>\n      <td>14039.4</td>\n      <td>14756.6</td>\n      <td>15473.8</td>\n      <td>16191.0</td>\n      <td>23994.8</td>\n      <td>31798.6</td>\n      <td>39602.4</td>\n      <td>47406.2</td>\n      <td>...</td>\n      <td>185755.0</td>\n      <td>199320.0</td>\n      <td>212885.0</td>\n      <td>226450.0</td>\n      <td>240015.0</td>\n      <td>264708.0</td>\n      <td>289401.0</td>\n      <td>314094.0</td>\n      <td>338787.0</td>\n      <td>363480.0</td>\n    </tr>\n    <tr>\n      <th>Denmark</th>\n      <td>13624.0</td>\n      <td>14203.0</td>\n      <td>14782.0</td>\n      <td>15361.0</td>\n      <td>15940.0</td>\n      <td>16519.0</td>\n      <td>17925.6</td>\n      <td>19332.2</td>\n      <td>20738.8</td>\n      <td>22145.4</td>\n      <td>...</td>\n      <td>57286.6</td>\n      <td>59549.2</td>\n      <td>61811.8</td>\n      <td>64074.4</td>\n      <td>66337.0</td>\n      <td>68163.6</td>\n      <td>69990.2</td>\n      <td>71816.8</td>\n      <td>73643.4</td>\n      <td>75470.0</td>\n    </tr>\n    <tr>\n      <th>Finland</th>\n      <td>2310.0</td>\n      <td>2339.0</td>\n      <td>2368.0</td>\n      <td>2397.0</td>\n      <td>2426.0</td>\n      <td>2455.0</td>\n      <td>2591.8</td>\n      <td>2728.6</td>\n      <td>2865.4</td>\n      <td>3002.2</td>\n      <td>...</td>\n      <td>15796.2</td>\n      <td>17063.4</td>\n      <td>18330.6</td>\n      <td>19597.8</td>\n      <td>20865.0</td>\n      <td>22779.6</td>\n      <td>24694.2</td>\n      <td>26608.8</td>\n      <td>28523.4</td>\n      <td>30438.0</td>\n    </tr>\n    <tr>\n      <th>France</th>\n      <td>165196.0</td>\n      <td>177153.6</td>\n      <td>189111.2</td>\n      <td>201068.8</td>\n      <td>213026.4</td>\n      <td>224984.0</td>\n      <td>246040.4</td>\n      <td>267096.8</td>\n      <td>288153.2</td>\n      <td>309209.6</td>\n      <td>...</td>\n      <td>624607.0</td>\n      <td>648752.0</td>\n      <td>672897.0</td>\n      <td>697042.0</td>\n      <td>721187.0</td>\n      <td>786677.6</td>\n      <td>852168.2</td>\n      <td>917658.8</td>\n      <td>983149.4</td>\n      <td>1048640.0</td>\n    </tr>\n    <tr>\n      <th>Germany</th>\n      <td>409250.0</td>\n      <td>396510.8</td>\n      <td>383771.6</td>\n      <td>371032.4</td>\n      <td>358293.2</td>\n      <td>345554.0</td>\n      <td>346655.6</td>\n      <td>347757.2</td>\n      <td>348858.8</td>\n      <td>349960.4</td>\n      <td>...</td>\n      <td>803993.6</td>\n      <td>828417.2</td>\n      <td>852840.8</td>\n      <td>877264.4</td>\n      <td>901688.0</td>\n      <td>942150.2</td>\n      <td>982612.4</td>\n      <td>1023074.6</td>\n      <td>1063536.8</td>\n      <td>1103999.0</td>\n    </tr>\n    <tr>\n      <th>Greece</th>\n      <td>18747.0</td>\n      <td>22474.4</td>\n      <td>26201.8</td>\n      <td>29929.2</td>\n      <td>33656.6</td>\n      <td>37384.0</td>\n      <td>33798.4</td>\n      <td>30212.8</td>\n      <td>26627.2</td>\n      <td>23041.6</td>\n      <td>...</td>\n      <td>155298.0</td>\n      <td>179953.0</td>\n      <td>204608.0</td>\n      <td>229263.0</td>\n      <td>253918.0</td>\n      <td>264638.4</td>\n      <td>275358.8</td>\n      <td>286079.2</td>\n      <td>296799.6</td>\n      <td>307520.0</td>\n    </tr>\n    <tr>\n      <th>Ireland</th>\n      <td>19469.0</td>\n      <td>21134.2</td>\n      <td>22799.4</td>\n      <td>24464.6</td>\n      <td>26129.8</td>\n      <td>27795.0</td>\n      <td>29107.2</td>\n      <td>30419.4</td>\n      <td>31731.6</td>\n      <td>33043.8</td>\n      <td>...</td>\n      <td>103527.0</td>\n      <td>112371.0</td>\n      <td>121215.0</td>\n      <td>130059.0</td>\n      <td>138903.0</td>\n      <td>158151.2</td>\n      <td>177399.4</td>\n      <td>196647.6</td>\n      <td>215895.8</td>\n      <td>235144.0</td>\n    </tr>\n    <tr>\n      <th>Luxembourg</th>\n      <td>8957.0</td>\n      <td>9078.0</td>\n      <td>9199.0</td>\n      <td>9320.0</td>\n      <td>9441.0</td>\n      <td>9562.0</td>\n      <td>9680.8</td>\n      <td>9799.6</td>\n      <td>9918.4</td>\n      <td>10037.2</td>\n      <td>...</td>\n      <td>17791.2</td>\n      <td>18175.4</td>\n      <td>18559.6</td>\n      <td>18943.8</td>\n      <td>19328.0</td>\n      <td>19775.2</td>\n      <td>20222.4</td>\n      <td>20669.6</td>\n      <td>21116.8</td>\n      <td>21564.0</td>\n    </tr>\n    <tr>\n      <th>Netherlands</th>\n      <td>33542.0</td>\n      <td>39960.2</td>\n      <td>46378.4</td>\n      <td>52796.6</td>\n      <td>59214.8</td>\n      <td>65633.0</td>\n      <td>77673.8</td>\n      <td>89714.6</td>\n      <td>101755.4</td>\n      <td>113796.2</td>\n      <td>...</td>\n      <td>245286.4</td>\n      <td>260982.8</td>\n      <td>276679.2</td>\n      <td>292375.6</td>\n      <td>308072.0</td>\n      <td>318713.8</td>\n      <td>329355.6</td>\n      <td>339997.4</td>\n      <td>350639.2</td>\n      <td>361281.0</td>\n    </tr>\n    <tr>\n      <th>New Zealand</th>\n      <td>81494.0</td>\n      <td>92776.0</td>\n      <td>104058.0</td>\n      <td>115340.0</td>\n      <td>126622.0</td>\n      <td>137904.0</td>\n      <td>144896.6</td>\n      <td>151889.2</td>\n      <td>158881.8</td>\n      <td>165874.4</td>\n      <td>...</td>\n      <td>191521.2</td>\n      <td>214877.4</td>\n      <td>238233.6</td>\n      <td>261589.8</td>\n      <td>284946.0</td>\n      <td>281936.2</td>\n      <td>278926.4</td>\n      <td>275916.6</td>\n      <td>272906.8</td>\n      <td>269897.0</td>\n    </tr>\n    <tr>\n      <th>Norway</th>\n      <td>13719.0</td>\n      <td>14922.2</td>\n      <td>16125.4</td>\n      <td>17328.6</td>\n      <td>18531.8</td>\n      <td>19735.0</td>\n      <td>21853.4</td>\n      <td>23971.8</td>\n      <td>26090.2</td>\n      <td>28208.6</td>\n      <td>...</td>\n      <td>60476.2</td>\n      <td>65208.4</td>\n      <td>69940.6</td>\n      <td>74672.8</td>\n      <td>79405.0</td>\n      <td>90255.0</td>\n      <td>101105.0</td>\n      <td>111955.0</td>\n      <td>122805.0</td>\n      <td>133655.0</td>\n    </tr>\n    <tr>\n      <th>Portugal</th>\n      <td>18098.0</td>\n      <td>21960.2</td>\n      <td>25822.4</td>\n      <td>29684.6</td>\n      <td>33546.8</td>\n      <td>37409.0</td>\n      <td>37471.2</td>\n      <td>37533.4</td>\n      <td>37595.6</td>\n      <td>37657.8</td>\n      <td>...</td>\n      <td>109681.6</td>\n      <td>117058.2</td>\n      <td>124434.8</td>\n      <td>131811.4</td>\n      <td>139188.0</td>\n      <td>144817.8</td>\n      <td>150447.6</td>\n      <td>156077.4</td>\n      <td>161707.2</td>\n      <td>167337.0</td>\n    </tr>\n    <tr>\n      <th>Sweden</th>\n      <td>338425.0</td>\n      <td>359595.0</td>\n      <td>380765.0</td>\n      <td>401935.0</td>\n      <td>423105.0</td>\n      <td>444275.0</td>\n      <td>376110.6</td>\n      <td>307946.2</td>\n      <td>239781.8</td>\n      <td>171617.4</td>\n      <td>...</td>\n      <td>202120.0</td>\n      <td>214264.0</td>\n      <td>226408.0</td>\n      <td>238552.0</td>\n      <td>250696.0</td>\n      <td>271917.0</td>\n      <td>293138.0</td>\n      <td>314359.0</td>\n      <td>335580.0</td>\n      <td>356801.0</td>\n    </tr>\n    <tr>\n      <th>Switzerland</th>\n      <td>120676.0</td>\n      <td>123873.6</td>\n      <td>127071.2</td>\n      <td>130268.8</td>\n      <td>133466.4</td>\n      <td>136664.0</td>\n      <td>143309.4</td>\n      <td>149954.8</td>\n      <td>156600.2</td>\n      <td>163245.6</td>\n      <td>...</td>\n      <td>253623.6</td>\n      <td>254743.2</td>\n      <td>255862.8</td>\n      <td>256982.4</td>\n      <td>258102.0</td>\n      <td>261946.8</td>\n      <td>265791.6</td>\n      <td>269636.4</td>\n      <td>273481.2</td>\n      <td>277326.0</td>\n    </tr>\n    <tr>\n      <th>United Kingdom</th>\n      <td>507673.0</td>\n      <td>510434.4</td>\n      <td>513195.8</td>\n      <td>515957.2</td>\n      <td>518718.6</td>\n      <td>521480.0</td>\n      <td>527365.4</td>\n      <td>533250.8</td>\n      <td>539136.2</td>\n      <td>545021.6</td>\n      <td>...</td>\n      <td>1320669.4</td>\n      <td>1411785.8</td>\n      <td>1502902.2</td>\n      <td>1594018.6</td>\n      <td>1685135.0</td>\n      <td>1840019.8</td>\n      <td>1994904.6</td>\n      <td>2149789.4</td>\n      <td>2304674.2</td>\n      <td>2459559.0</td>\n    </tr>\n    <tr>\n      <th>United States</th>\n      <td>2776484.0</td>\n      <td>3127658.0</td>\n      <td>3478832.0</td>\n      <td>3830006.0</td>\n      <td>4181180.0</td>\n      <td>4532354.0</td>\n      <td>4752828.4</td>\n      <td>4973302.8</td>\n      <td>5193777.2</td>\n      <td>5414251.6</td>\n      <td>...</td>\n      <td>8886622.2</td>\n      <td>9624678.4</td>\n      <td>10362734.6</td>\n      <td>11100790.8</td>\n      <td>11838847.0</td>\n      <td>12190943.2</td>\n      <td>12543039.4</td>\n      <td>12895135.6</td>\n      <td>13247231.8</td>\n      <td>13599328.0</td>\n    </tr>\n  </tbody>\n</table>\n<p>19 rows × 31 columns</p>\n</div>"
     },
     "metadata": {},
     "execution_count": 40
    }
   ],
   "source": [
    "years_data = migration_stats.iloc[:, 1:32].columns\n",
    "migration_stats_by_destination = migration_stats.groupby('country_to')[years_data].sum()\n",
    "migration_stats_by_destination"
   ]
  },
  {
   "cell_type": "code",
   "execution_count": 41,
   "metadata": {},
   "outputs": [
    {
     "output_type": "execute_result",
     "data": {
      "text/plain": [
       "0          Australia\n",
       "1            Austria\n",
       "2             Canada\n",
       "3              Chile\n",
       "4            Denmark\n",
       "5            Finland\n",
       "6             France\n",
       "7            Germany\n",
       "8             Greece\n",
       "9            Ireland\n",
       "10        Luxembourg\n",
       "11       Netherlands\n",
       "12       New Zealand\n",
       "13            Norway\n",
       "14          Portugal\n",
       "15            Sweden\n",
       "16       Switzerland\n",
       "17    United Kingdom\n",
       "18     United States\n",
       "19             total\n",
       "Name: country_to, dtype: object"
      ]
     },
     "metadata": {},
     "execution_count": 41
    }
   ],
   "source": [
    "# migration_stats_by_destination['total_to_country'] = migration_stats_by_destination.sum(axis=1)\n",
    "total_by_year = migration_stats_by_destination.sum(axis=0)\n",
    "country_to = list(migration_stats_by_destination.reset_index()['country_to'])\n",
    "country_to.append('total')\n",
    "migration_stats_by_destination = migration_stats_by_destination.append(total_by_year, ignore_index=True)\n",
    "migration_stats_by_destination['country_to'] = pd.Series(country_to)\n",
    "migration_stats_by_destination['country_to']"
   ]
  },
  {
   "cell_type": "code",
   "execution_count": 50,
   "metadata": {},
   "outputs": [
    {
     "output_type": "execute_result",
     "data": {
      "text/plain": [
       "6340987.0"
      ]
     },
     "metadata": {},
     "execution_count": 50
    }
   ],
   "source": [
    "migration_stats_by_destination['1980'][len(migration_stats_by_destination)-1]"
   ]
  },
  {
   "cell_type": "code",
   "execution_count": 51,
   "metadata": {},
   "outputs": [
    {
     "output_type": "stream",
     "name": "stderr",
     "text": [
      "<ipython-input-51-228b2a55b022>:2: SettingWithCopyWarning: \nA value is trying to be set on a copy of a slice from a DataFrame\n\nSee the caveats in the documentation: https://pandas.pydata.org/pandas-docs/stable/user_guide/indexing.html#returning-a-view-versus-a-copy\n  migration_stats_by_destination[col][:-1] /= migration_stats_by_destination[col][len(migration_stats_by_destination)-1]\n/Users/aliyadavletshina/opt/anaconda3/lib/python3.8/site-packages/pandas/core/indexing.py:670: SettingWithCopyWarning: \nA value is trying to be set on a copy of a slice from a DataFrame\n\nSee the caveats in the documentation: https://pandas.pydata.org/pandas-docs/stable/user_guide/indexing.html#returning-a-view-versus-a-copy\n  iloc._setitem_with_indexer(indexer, value)\n"
     ]
    }
   ],
   "source": [
    "for col in migration_stats_by_destination.iloc[:, :-1].columns:\n",
    "     migration_stats_by_destination[col][:-1] /= migration_stats_by_destination[col][len(migration_stats_by_destination)-1]"
   ]
  },
  {
   "cell_type": "code",
   "execution_count": 83,
   "metadata": {},
   "outputs": [],
   "source": [
    "migration_stats_by_destination_melted = migration_stats_by_destination.melt('country_to', var_name = 'year', value_name = 'prob')\n",
    "migration_stats_by_destination_melted = migration_stats_by_destination_melted.set_index(['country_to', 'year'])"
   ]
  },
  {
   "cell_type": "code",
   "execution_count": 79,
   "metadata": {},
   "outputs": [
    {
     "output_type": "stream",
     "name": "stderr",
     "text": [
      "/Users/aliyadavletshina/opt/anaconda3/lib/python3.8/site-packages/pandas/core/generic.py:5168: SettingWithCopyWarning: \nA value is trying to be set on a copy of a slice from a DataFrame.\nTry using .loc[row_indexer,col_indexer] = value instead\n\nSee the caveats in the documentation: https://pandas.pydata.org/pandas-docs/stable/user_guide/indexing.html#returning-a-view-versus-a-copy\n  self[name] = value\n"
     ]
    },
    {
     "output_type": "execute_result",
     "data": {
      "text/plain": [
       "                           co2    expRD     expEd  expHealth   lifeExp\n",
       "country_to     year                                                   \n",
       "Argentina      1980  10.873755  0.41749  4.634114   2.607150  6.949600\n",
       "Armenia        1980   0.582686  0.18692  0.954682   1.848430  7.093700\n",
       "Australia      1980  22.074607  1.66650  5.469498   5.654080  7.433366\n",
       "Austria        1980   5.230609  1.58077  6.825787   5.008970  7.246341\n",
       "Azerbaijan     1980   5.624078  0.23533  0.866893   6.057970  6.416100\n",
       "...                        ...      ...       ...        ...       ...\n",
       "Togo           2010   0.263657  0.23477  1.554958   4.096350  5.746800\n",
       "Tunisia        2010   2.766018  0.69026  3.280535   6.254810  7.504100\n",
       "United Kingdom 2010  49.267612  1.66063  8.218777   5.703240  8.040244\n",
       "Uruguay        2010   0.638791  0.34115  5.156711   4.060268  7.675000\n",
       "Zambia         2010   0.269158  0.27819  0.841367   2.106749  5.565500\n",
       "\n",
       "[2356 rows x 5 columns]"
      ],
      "text/html": "<div>\n<style scoped>\n    .dataframe tbody tr th:only-of-type {\n        vertical-align: middle;\n    }\n\n    .dataframe tbody tr th {\n        vertical-align: top;\n    }\n\n    .dataframe thead th {\n        text-align: right;\n    }\n</style>\n<table border=\"1\" class=\"dataframe\">\n  <thead>\n    <tr style=\"text-align: right;\">\n      <th></th>\n      <th></th>\n      <th>co2</th>\n      <th>expRD</th>\n      <th>expEd</th>\n      <th>expHealth</th>\n      <th>lifeExp</th>\n    </tr>\n    <tr>\n      <th>country_to</th>\n      <th>year</th>\n      <th></th>\n      <th></th>\n      <th></th>\n      <th></th>\n      <th></th>\n    </tr>\n  </thead>\n  <tbody>\n    <tr>\n      <th>Argentina</th>\n      <th>1980</th>\n      <td>10.873755</td>\n      <td>0.41749</td>\n      <td>4.634114</td>\n      <td>2.607150</td>\n      <td>6.949600</td>\n    </tr>\n    <tr>\n      <th>Armenia</th>\n      <th>1980</th>\n      <td>0.582686</td>\n      <td>0.18692</td>\n      <td>0.954682</td>\n      <td>1.848430</td>\n      <td>7.093700</td>\n    </tr>\n    <tr>\n      <th>Australia</th>\n      <th>1980</th>\n      <td>22.074607</td>\n      <td>1.66650</td>\n      <td>5.469498</td>\n      <td>5.654080</td>\n      <td>7.433366</td>\n    </tr>\n    <tr>\n      <th>Austria</th>\n      <th>1980</th>\n      <td>5.230609</td>\n      <td>1.58077</td>\n      <td>6.825787</td>\n      <td>5.008970</td>\n      <td>7.246341</td>\n    </tr>\n    <tr>\n      <th>Azerbaijan</th>\n      <th>1980</th>\n      <td>5.624078</td>\n      <td>0.23533</td>\n      <td>0.866893</td>\n      <td>6.057970</td>\n      <td>6.416100</td>\n    </tr>\n    <tr>\n      <th>...</th>\n      <th>...</th>\n      <td>...</td>\n      <td>...</td>\n      <td>...</td>\n      <td>...</td>\n      <td>...</td>\n    </tr>\n    <tr>\n      <th>Togo</th>\n      <th>2010</th>\n      <td>0.263657</td>\n      <td>0.23477</td>\n      <td>1.554958</td>\n      <td>4.096350</td>\n      <td>5.746800</td>\n    </tr>\n    <tr>\n      <th>Tunisia</th>\n      <th>2010</th>\n      <td>2.766018</td>\n      <td>0.69026</td>\n      <td>3.280535</td>\n      <td>6.254810</td>\n      <td>7.504100</td>\n    </tr>\n    <tr>\n      <th>United Kingdom</th>\n      <th>2010</th>\n      <td>49.267612</td>\n      <td>1.66063</td>\n      <td>8.218777</td>\n      <td>5.703240</td>\n      <td>8.040244</td>\n    </tr>\n    <tr>\n      <th>Uruguay</th>\n      <th>2010</th>\n      <td>0.638791</td>\n      <td>0.34115</td>\n      <td>5.156711</td>\n      <td>4.060268</td>\n      <td>7.675000</td>\n    </tr>\n    <tr>\n      <th>Zambia</th>\n      <th>2010</th>\n      <td>0.269158</td>\n      <td>0.27819</td>\n      <td>0.841367</td>\n      <td>2.106749</td>\n      <td>5.565500</td>\n    </tr>\n  </tbody>\n</table>\n<p>2356 rows × 5 columns</p>\n</div>"
     },
     "metadata": {},
     "execution_count": 79
    }
   ],
   "source": [
    "country_data = pd.read_csv('../df_for_final_sim.csv').drop('Unnamed: 0', axis=1)\n",
    "country_data_to_2010 = country_data[country_data['year'] <= 30]\n",
    "country_data_to_2010.year = country_data_to_2010.year.map({k:v for k,v in zip(country_data_to_2010.year.unique(), np.arange(1980,2011))})\n",
    "# country_data_to_2010\n",
    "\n",
    "country_data_to_2010_idx = country_data_to_2010.rename({'country':'country_to'}, axis=1).set_index(['country_to','year'])\n",
    "country_data_to_2010_idx"
   ]
  },
  {
   "cell_type": "code",
   "execution_count": 86,
   "metadata": {},
   "outputs": [
    {
     "output_type": "execute_result",
     "data": {
      "text/plain": [
       "                           co2    expRD     expEd  expHealth   lifeExp  prob\n",
       "country_to     year                                                         \n",
       "Argentina      1980  10.873755  0.41749  4.634114   2.607150  6.949600   NaN\n",
       "Armenia        1980   0.582686  0.18692  0.954682   1.848430  7.093700   NaN\n",
       "Australia      1980  22.074607  1.66650  5.469498   5.654080  7.433366   NaN\n",
       "Austria        1980   5.230609  1.58077  6.825787   5.008970  7.246341   NaN\n",
       "Azerbaijan     1980   5.624078  0.23533  0.866893   6.057970  6.416100   NaN\n",
       "...                        ...      ...       ...        ...       ...   ...\n",
       "Togo           2010   0.263657  0.23477  1.554958   4.096350  5.746800   NaN\n",
       "Tunisia        2010   2.766018  0.69026  3.280535   6.254810  7.504100   NaN\n",
       "United Kingdom 2010  49.267612  1.66063  8.218777   5.703240  8.040244   NaN\n",
       "Uruguay        2010   0.638791  0.34115  5.156711   4.060268  7.675000   NaN\n",
       "Zambia         2010   0.269158  0.27819  0.841367   2.106749  5.565500   NaN\n",
       "\n",
       "[2356 rows x 6 columns]"
      ],
      "text/html": "<div>\n<style scoped>\n    .dataframe tbody tr th:only-of-type {\n        vertical-align: middle;\n    }\n\n    .dataframe tbody tr th {\n        vertical-align: top;\n    }\n\n    .dataframe thead th {\n        text-align: right;\n    }\n</style>\n<table border=\"1\" class=\"dataframe\">\n  <thead>\n    <tr style=\"text-align: right;\">\n      <th></th>\n      <th></th>\n      <th>co2</th>\n      <th>expRD</th>\n      <th>expEd</th>\n      <th>expHealth</th>\n      <th>lifeExp</th>\n      <th>prob</th>\n    </tr>\n    <tr>\n      <th>country_to</th>\n      <th>year</th>\n      <th></th>\n      <th></th>\n      <th></th>\n      <th></th>\n      <th></th>\n      <th></th>\n    </tr>\n  </thead>\n  <tbody>\n    <tr>\n      <th>Argentina</th>\n      <th>1980</th>\n      <td>10.873755</td>\n      <td>0.41749</td>\n      <td>4.634114</td>\n      <td>2.607150</td>\n      <td>6.949600</td>\n      <td>NaN</td>\n    </tr>\n    <tr>\n      <th>Armenia</th>\n      <th>1980</th>\n      <td>0.582686</td>\n      <td>0.18692</td>\n      <td>0.954682</td>\n      <td>1.848430</td>\n      <td>7.093700</td>\n      <td>NaN</td>\n    </tr>\n    <tr>\n      <th>Australia</th>\n      <th>1980</th>\n      <td>22.074607</td>\n      <td>1.66650</td>\n      <td>5.469498</td>\n      <td>5.654080</td>\n      <td>7.433366</td>\n      <td>NaN</td>\n    </tr>\n    <tr>\n      <th>Austria</th>\n      <th>1980</th>\n      <td>5.230609</td>\n      <td>1.58077</td>\n      <td>6.825787</td>\n      <td>5.008970</td>\n      <td>7.246341</td>\n      <td>NaN</td>\n    </tr>\n    <tr>\n      <th>Azerbaijan</th>\n      <th>1980</th>\n      <td>5.624078</td>\n      <td>0.23533</td>\n      <td>0.866893</td>\n      <td>6.057970</td>\n      <td>6.416100</td>\n      <td>NaN</td>\n    </tr>\n    <tr>\n      <th>...</th>\n      <th>...</th>\n      <td>...</td>\n      <td>...</td>\n      <td>...</td>\n      <td>...</td>\n      <td>...</td>\n      <td>...</td>\n    </tr>\n    <tr>\n      <th>Togo</th>\n      <th>2010</th>\n      <td>0.263657</td>\n      <td>0.23477</td>\n      <td>1.554958</td>\n      <td>4.096350</td>\n      <td>5.746800</td>\n      <td>NaN</td>\n    </tr>\n    <tr>\n      <th>Tunisia</th>\n      <th>2010</th>\n      <td>2.766018</td>\n      <td>0.69026</td>\n      <td>3.280535</td>\n      <td>6.254810</td>\n      <td>7.504100</td>\n      <td>NaN</td>\n    </tr>\n    <tr>\n      <th>United Kingdom</th>\n      <th>2010</th>\n      <td>49.267612</td>\n      <td>1.66063</td>\n      <td>8.218777</td>\n      <td>5.703240</td>\n      <td>8.040244</td>\n      <td>NaN</td>\n    </tr>\n    <tr>\n      <th>Uruguay</th>\n      <th>2010</th>\n      <td>0.638791</td>\n      <td>0.34115</td>\n      <td>5.156711</td>\n      <td>4.060268</td>\n      <td>7.675000</td>\n      <td>NaN</td>\n    </tr>\n    <tr>\n      <th>Zambia</th>\n      <th>2010</th>\n      <td>0.269158</td>\n      <td>0.27819</td>\n      <td>0.841367</td>\n      <td>2.106749</td>\n      <td>5.565500</td>\n      <td>NaN</td>\n    </tr>\n  </tbody>\n</table>\n<p>2356 rows × 6 columns</p>\n</div>"
     },
     "metadata": {},
     "execution_count": 86
    }
   ],
   "source": [
    "country_data_to_2010_idx.join(migration_stats_by_destination_melted)"
   ]
  },
  {
   "cell_type": "code",
   "execution_count": 93,
   "metadata": {},
   "outputs": [
    {
     "output_type": "execute_result",
     "data": {
      "text/plain": [
       "20"
      ]
     },
     "metadata": {},
     "execution_count": 93
    }
   ],
   "source": [
    "len(migration_stats_by_destination.country_to.unique())"
   ]
  },
  {
   "cell_type": "code",
   "execution_count": 99,
   "metadata": {},
   "outputs": [],
   "source": [
    "all_immigrants = pd.read_csv('../data/all_emigrants_high_interpolated.csv')"
   ]
  },
  {
   "cell_type": "code",
   "execution_count": 102,
   "metadata": {},
   "outputs": [],
   "source": [
    "countries_from = all_immigrants.country_from.unique()"
   ]
  },
  {
   "cell_type": "code",
   "execution_count": 103,
   "metadata": {},
   "outputs": [
    {
     "output_type": "execute_result",
     "data": {
      "text/plain": [
       "179"
      ]
     },
     "metadata": {},
     "execution_count": 103
    }
   ],
   "source": [
    "len(countries_from)"
   ]
  },
  {
   "cell_type": "code",
   "execution_count": 135,
   "metadata": {},
   "outputs": [],
   "source": [
    "countries_with_data = pd.read_csv('../df_for_final_sim.csv').drop('Unnamed: 0', axis=1).country.unique()"
   ]
  },
  {
   "cell_type": "code",
   "execution_count": 136,
   "metadata": {},
   "outputs": [
    {
     "output_type": "execute_result",
     "data": {
      "text/plain": [
       "array(['Argentina', 'Armenia', 'Australia', 'Austria', 'Azerbaijan',\n",
       "       'Bangladesh', 'Belgium', 'Benin', 'Brazil', 'Bulgaria', 'Burundi',\n",
       "       'Cameroon', 'Canada', 'Chile', 'Colombia', 'Costa Rica',\n",
       "       \"Cote d'Ivoire\", 'Cyprus', 'Czech Republic', 'Denmark', 'Estonia',\n",
       "       'Ethiopia', 'Finland', 'Gambia, The', 'Ghana', 'Guinea', 'Guyana',\n",
       "       'Hong Kong SAR, China', 'Hungary', 'Iceland', 'Iran, Islamic Rep.',\n",
       "       'Ireland', 'Israel', 'Italy', 'Jamaica', 'Japan', 'Kenya',\n",
       "       'Kyrgyz Republic', 'Latvia', 'Lesotho', 'Lithuania',\n",
       "       'Macao SAR, China', 'Madagascar', 'Malaysia', 'Mali', 'Malta',\n",
       "       'Mauritius', 'Mexico', 'Nepal', 'Netherlands', 'New Zealand',\n",
       "       'Niger', 'Norway', 'Oman', 'Pakistan', 'Panama', 'Peru', 'Poland',\n",
       "       'Portugal', 'Saudi Arabia', 'Senegal', 'Slovak Republic',\n",
       "       'Slovenia', 'South Africa', 'Spain', 'Sri Lanka', 'St. Lucia',\n",
       "       'Eswatini', 'Sweden', 'Switzerland', 'Thailand', 'Togo', 'Tunisia',\n",
       "       'United Kingdom', 'Uruguay', 'Zambia'], dtype=object)"
      ]
     },
     "metadata": {},
     "execution_count": 136
    }
   ],
   "source": [
    "countries_with_data"
   ]
  },
  {
   "cell_type": "code",
   "execution_count": 114,
   "metadata": {},
   "outputs": [],
   "source": [
    "counties_to_consider = set(countries_with_data).intersection(set(countries_from))"
   ]
  },
  {
   "cell_type": "code",
   "execution_count": 137,
   "metadata": {},
   "outputs": [
    {
     "output_type": "execute_result",
     "data": {
      "text/plain": [
       "67"
      ]
     },
     "metadata": {},
     "execution_count": 137
    }
   ],
   "source": [
    "len(counties_to_consider)"
   ]
  },
  {
   "cell_type": "code",
   "execution_count": 121,
   "metadata": {},
   "outputs": [],
   "source": [
    "destinations_with_data = counties_to_consider.intersection(set(all_immigrants.country_to.unique()))"
   ]
  },
  {
   "cell_type": "code",
   "execution_count": 122,
   "metadata": {},
   "outputs": [
    {
     "output_type": "execute_result",
     "data": {
      "text/plain": [
       "{'France', 'Germany', 'Greece', 'Luxembourg', 'United States'}"
      ]
     },
     "metadata": {},
     "execution_count": 122
    }
   ],
   "source": [
    "set(all_immigrants.country_to.unique()) - destinations_with_data # we do not have data for these countires "
   ]
  },
  {
   "cell_type": "code",
   "execution_count": 138,
   "metadata": {},
   "outputs": [
    {
     "output_type": "stream",
     "name": "stdout",
     "text": [
      "# of destination countries which have indicators data: 14 {'Denmark', 'New Zealand', 'Netherlands', 'Chile', 'Switzerland', 'Ireland', 'United Kingdom', 'Norway', 'Sweden', 'Austria', 'Canada', 'Finland', 'Portugal', 'Australia'}\n# of all countries which have indicators data (including destinations) : 67 {'Hungary', 'Latvia', 'Chile', 'Bangladesh', 'Switzerland', 'Burundi', 'Malaysia', 'Niger', 'Ethiopia', 'Colombia', 'Norway', 'Sweden', 'Canada', 'Peru', 'Israel', 'Nepal', 'South Africa', 'Zambia', 'Cameroon', 'Mexico', 'Poland', 'Gambia, The', 'Guinea', 'Cyprus', 'Brazil', 'Ireland', 'Mauritius', 'Mali', \"Cote d'Ivoire\", 'Thailand', 'Benin', 'Japan', 'Senegal', 'Lithuania', 'Australia', 'New Zealand', 'Netherlands', 'Sri Lanka', 'Belgium', 'Ghana', 'Kenya', 'Azerbaijan', 'Saudi Arabia', 'Czech Republic', 'Costa Rica', 'Austria', 'Estonia', 'Togo', 'Denmark', 'Panama', 'Slovenia', 'Malta', 'Uruguay', 'Jamaica', 'Argentina', 'Madagascar', 'Pakistan', 'United Kingdom', 'Armenia', 'Spain', 'Tunisia', 'Finland', 'Bulgaria', 'Portugal', 'Guyana', 'Iceland', 'Italy'}\n"
     ]
    }
   ],
   "source": [
    "print('# of destination countries which have indicators data:', len(destinations_with_data), destinations_with_data)\n",
    "print('# of all countries which have indicators data (including destinations) :', len(counties_to_consider), counties_to_consider)"
   ]
  },
  {
   "cell_type": "code",
   "execution_count": 148,
   "metadata": {},
   "outputs": [],
   "source": [
    "countries_data = pd.read_csv('../df_for_final_sim.csv').drop('Unnamed: 0', axis=1)\n",
    "countries_data = countries_data[countries_data.country.isin(counties_to_consider)]\n",
    "countries_data.to_csv('../df_for_final_sim.csv')"
   ]
  },
  {
   "cell_type": "code",
   "execution_count": null,
   "metadata": {},
   "outputs": [],
   "source": [
    "countries_data"
   ]
  },
  {
   "cell_type": "code",
   "execution_count": 162,
   "metadata": {},
   "outputs": [],
   "source": [
    "population = pd.read_excel('../data/Population.xls').iloc[:217, 2:]"
   ]
  },
  {
   "cell_type": "code",
   "execution_count": 164,
   "metadata": {},
   "outputs": [],
   "source": [
    "population.drop('Country Code', axis=1, inplace=True)"
   ]
  },
  {
   "cell_type": "code",
   "execution_count": 167,
   "metadata": {},
   "outputs": [],
   "source": [
    "population= population[population['Country Name'].isin(counties_to_consider)]"
   ]
  },
  {
   "cell_type": "code",
   "execution_count": 187,
   "metadata": {},
   "outputs": [],
   "source": [
    "population = population.reset_index(drop=True)"
   ]
  },
  {
   "cell_type": "code",
   "execution_count": 199,
   "metadata": {},
   "outputs": [
    {
     "output_type": "execute_result",
     "data": {
      "text/plain": [
       "           country        1980        1981        1982        1983  \\\n",
       "0        Argentina    0.023694   0.0236469   0.0236041    0.023565   \n",
       "1          Armenia  0.00263278  0.00262691    0.002618  0.00260807   \n",
       "2        Australia   0.0124787   0.0124558   0.0124421   0.0123768   \n",
       "3          Austria  0.00641212  0.00631567  0.00620884  0.00608968   \n",
       "4       Azerbaijan  0.00522414  0.00521471    0.005205  0.00519592   \n",
       "..             ...         ...         ...         ...         ...   \n",
       "62            Togo  0.00231095  0.00234672  0.00239006  0.00243765   \n",
       "63         Tunisia   0.0054138  0.00546664   0.0055255   0.0055867   \n",
       "64  United Kingdom   0.0478306   0.0470075   0.0461627   0.0453654   \n",
       "65         Uruguay  0.00247619  0.00244877   0.0024214  0.00239422   \n",
       "66          Zambia  0.00497026  0.00505287   0.0051364  0.00521995   \n",
       "\n",
       "          1984        1985        1986        1987        1988  ...      2001  \\\n",
       "0    0.0235283   0.0234918   0.0234561   0.0234213   0.0233865  ...  0.022580   \n",
       "1    0.0025996  0.00259354  0.00259192  0.00259261  0.00258808  ...  0.001848   \n",
       "2    0.0122986   0.0122511   0.0122391   0.0122151   0.0122085  ...  0.011759   \n",
       "3   0.00598268  0.00588144  0.00578383  0.00568895  0.00560151  ...  0.004872   \n",
       "4   0.00518842  0.00518286  0.00517932   0.0051774  0.00517668  ...  0.004913   \n",
       "..         ...         ...         ...         ...         ...  ...       ...   \n",
       "62  0.00248507  0.00252906  0.00256959  0.00260747  0.00264184  ...  0.003067   \n",
       "63  0.00564549  0.00569843  0.00574414  0.00578369  0.00581937  ...  0.005933   \n",
       "64   0.0446417   0.0439653   0.0433084   0.0426616   0.0420397  ...  0.035812   \n",
       "65  0.00236749  0.00234132  0.00231562  0.00229041  0.00226614  ...  0.002014   \n",
       "66  0.00530232  0.00538244  0.00546076  0.00553742  0.00561108  ...  0.006477   \n",
       "\n",
       "        2002      2003      2004      2005      2006      2007      2008  \\\n",
       "0   0.022511  0.022440  0.022370  0.022299  0.022224  0.022146  0.022063   \n",
       "1   0.001812  0.001778  0.001744  0.001709  0.001673  0.001637  0.001601   \n",
       "2   0.011740  0.011721  0.011697  0.011693  0.011708  0.011623  0.011697   \n",
       "3   0.004828  0.004785  0.004749  0.004717  0.004677  0.004629  0.004581   \n",
       "4   0.004882  0.004851  0.004827  0.004811  0.004799  0.004789  0.004824   \n",
       "..       ...       ...       ...       ...       ...       ...       ...   \n",
       "62  0.003105  0.003141  0.003178  0.003217  0.003260  0.003304  0.003349   \n",
       "63  0.005897  0.005859  0.005825  0.005795  0.005770  0.005751  0.005733   \n",
       "64  0.035468  0.035142  0.034862  0.034630  0.034418  0.034221  0.034023   \n",
       "65  0.001987  0.001958  0.001930  0.001905  0.001881  0.001859  0.001839   \n",
       "66  0.006554  0.006632  0.006713  0.006798  0.006886  0.006977  0.007073   \n",
       "\n",
       "        2009      2010  \n",
       "0   0.021990  0.021873  \n",
       "1   0.001569  0.001543  \n",
       "2   0.011783  0.011815  \n",
       "3   0.004532  0.004485  \n",
       "4   0.004860  0.004855  \n",
       "..       ...       ...  \n",
       "62  0.003395  0.003444  \n",
       "63  0.005717  0.005703  \n",
       "64  0.033827  0.033659  \n",
       "65  0.001819  0.001801  \n",
       "66  0.007178  0.007296  \n",
       "\n",
       "[67 rows x 32 columns]"
      ],
      "text/html": "<div>\n<style scoped>\n    .dataframe tbody tr th:only-of-type {\n        vertical-align: middle;\n    }\n\n    .dataframe tbody tr th {\n        vertical-align: top;\n    }\n\n    .dataframe thead th {\n        text-align: right;\n    }\n</style>\n<table border=\"1\" class=\"dataframe\">\n  <thead>\n    <tr style=\"text-align: right;\">\n      <th></th>\n      <th>country</th>\n      <th>1980</th>\n      <th>1981</th>\n      <th>1982</th>\n      <th>1983</th>\n      <th>1984</th>\n      <th>1985</th>\n      <th>1986</th>\n      <th>1987</th>\n      <th>1988</th>\n      <th>...</th>\n      <th>2001</th>\n      <th>2002</th>\n      <th>2003</th>\n      <th>2004</th>\n      <th>2005</th>\n      <th>2006</th>\n      <th>2007</th>\n      <th>2008</th>\n      <th>2009</th>\n      <th>2010</th>\n    </tr>\n  </thead>\n  <tbody>\n    <tr>\n      <th>0</th>\n      <td>Argentina</td>\n      <td>0.023694</td>\n      <td>0.0236469</td>\n      <td>0.0236041</td>\n      <td>0.023565</td>\n      <td>0.0235283</td>\n      <td>0.0234918</td>\n      <td>0.0234561</td>\n      <td>0.0234213</td>\n      <td>0.0233865</td>\n      <td>...</td>\n      <td>0.022580</td>\n      <td>0.022511</td>\n      <td>0.022440</td>\n      <td>0.022370</td>\n      <td>0.022299</td>\n      <td>0.022224</td>\n      <td>0.022146</td>\n      <td>0.022063</td>\n      <td>0.021990</td>\n      <td>0.021873</td>\n    </tr>\n    <tr>\n      <th>1</th>\n      <td>Armenia</td>\n      <td>0.00263278</td>\n      <td>0.00262691</td>\n      <td>0.002618</td>\n      <td>0.00260807</td>\n      <td>0.0025996</td>\n      <td>0.00259354</td>\n      <td>0.00259192</td>\n      <td>0.00259261</td>\n      <td>0.00258808</td>\n      <td>...</td>\n      <td>0.001848</td>\n      <td>0.001812</td>\n      <td>0.001778</td>\n      <td>0.001744</td>\n      <td>0.001709</td>\n      <td>0.001673</td>\n      <td>0.001637</td>\n      <td>0.001601</td>\n      <td>0.001569</td>\n      <td>0.001543</td>\n    </tr>\n    <tr>\n      <th>2</th>\n      <td>Australia</td>\n      <td>0.0124787</td>\n      <td>0.0124558</td>\n      <td>0.0124421</td>\n      <td>0.0123768</td>\n      <td>0.0122986</td>\n      <td>0.0122511</td>\n      <td>0.0122391</td>\n      <td>0.0122151</td>\n      <td>0.0122085</td>\n      <td>...</td>\n      <td>0.011759</td>\n      <td>0.011740</td>\n      <td>0.011721</td>\n      <td>0.011697</td>\n      <td>0.011693</td>\n      <td>0.011708</td>\n      <td>0.011623</td>\n      <td>0.011697</td>\n      <td>0.011783</td>\n      <td>0.011815</td>\n    </tr>\n    <tr>\n      <th>3</th>\n      <td>Austria</td>\n      <td>0.00641212</td>\n      <td>0.00631567</td>\n      <td>0.00620884</td>\n      <td>0.00608968</td>\n      <td>0.00598268</td>\n      <td>0.00588144</td>\n      <td>0.00578383</td>\n      <td>0.00568895</td>\n      <td>0.00560151</td>\n      <td>...</td>\n      <td>0.004872</td>\n      <td>0.004828</td>\n      <td>0.004785</td>\n      <td>0.004749</td>\n      <td>0.004717</td>\n      <td>0.004677</td>\n      <td>0.004629</td>\n      <td>0.004581</td>\n      <td>0.004532</td>\n      <td>0.004485</td>\n    </tr>\n    <tr>\n      <th>4</th>\n      <td>Azerbaijan</td>\n      <td>0.00522414</td>\n      <td>0.00521471</td>\n      <td>0.005205</td>\n      <td>0.00519592</td>\n      <td>0.00518842</td>\n      <td>0.00518286</td>\n      <td>0.00517932</td>\n      <td>0.0051774</td>\n      <td>0.00517668</td>\n      <td>...</td>\n      <td>0.004913</td>\n      <td>0.004882</td>\n      <td>0.004851</td>\n      <td>0.004827</td>\n      <td>0.004811</td>\n      <td>0.004799</td>\n      <td>0.004789</td>\n      <td>0.004824</td>\n      <td>0.004860</td>\n      <td>0.004855</td>\n    </tr>\n    <tr>\n      <th>...</th>\n      <td>...</td>\n      <td>...</td>\n      <td>...</td>\n      <td>...</td>\n      <td>...</td>\n      <td>...</td>\n      <td>...</td>\n      <td>...</td>\n      <td>...</td>\n      <td>...</td>\n      <td>...</td>\n      <td>...</td>\n      <td>...</td>\n      <td>...</td>\n      <td>...</td>\n      <td>...</td>\n      <td>...</td>\n      <td>...</td>\n      <td>...</td>\n      <td>...</td>\n      <td>...</td>\n    </tr>\n    <tr>\n      <th>62</th>\n      <td>Togo</td>\n      <td>0.00231095</td>\n      <td>0.00234672</td>\n      <td>0.00239006</td>\n      <td>0.00243765</td>\n      <td>0.00248507</td>\n      <td>0.00252906</td>\n      <td>0.00256959</td>\n      <td>0.00260747</td>\n      <td>0.00264184</td>\n      <td>...</td>\n      <td>0.003067</td>\n      <td>0.003105</td>\n      <td>0.003141</td>\n      <td>0.003178</td>\n      <td>0.003217</td>\n      <td>0.003260</td>\n      <td>0.003304</td>\n      <td>0.003349</td>\n      <td>0.003395</td>\n      <td>0.003444</td>\n    </tr>\n    <tr>\n      <th>63</th>\n      <td>Tunisia</td>\n      <td>0.0054138</td>\n      <td>0.00546664</td>\n      <td>0.0055255</td>\n      <td>0.0055867</td>\n      <td>0.00564549</td>\n      <td>0.00569843</td>\n      <td>0.00574414</td>\n      <td>0.00578369</td>\n      <td>0.00581937</td>\n      <td>...</td>\n      <td>0.005933</td>\n      <td>0.005897</td>\n      <td>0.005859</td>\n      <td>0.005825</td>\n      <td>0.005795</td>\n      <td>0.005770</td>\n      <td>0.005751</td>\n      <td>0.005733</td>\n      <td>0.005717</td>\n      <td>0.005703</td>\n    </tr>\n    <tr>\n      <th>64</th>\n      <td>United Kingdom</td>\n      <td>0.0478306</td>\n      <td>0.0470075</td>\n      <td>0.0461627</td>\n      <td>0.0453654</td>\n      <td>0.0446417</td>\n      <td>0.0439653</td>\n      <td>0.0433084</td>\n      <td>0.0426616</td>\n      <td>0.0420397</td>\n      <td>...</td>\n      <td>0.035812</td>\n      <td>0.035468</td>\n      <td>0.035142</td>\n      <td>0.034862</td>\n      <td>0.034630</td>\n      <td>0.034418</td>\n      <td>0.034221</td>\n      <td>0.034023</td>\n      <td>0.033827</td>\n      <td>0.033659</td>\n    </tr>\n    <tr>\n      <th>65</th>\n      <td>Uruguay</td>\n      <td>0.00247619</td>\n      <td>0.00244877</td>\n      <td>0.0024214</td>\n      <td>0.00239422</td>\n      <td>0.00236749</td>\n      <td>0.00234132</td>\n      <td>0.00231562</td>\n      <td>0.00229041</td>\n      <td>0.00226614</td>\n      <td>...</td>\n      <td>0.002014</td>\n      <td>0.001987</td>\n      <td>0.001958</td>\n      <td>0.001930</td>\n      <td>0.001905</td>\n      <td>0.001881</td>\n      <td>0.001859</td>\n      <td>0.001839</td>\n      <td>0.001819</td>\n      <td>0.001801</td>\n    </tr>\n    <tr>\n      <th>66</th>\n      <td>Zambia</td>\n      <td>0.00497026</td>\n      <td>0.00505287</td>\n      <td>0.0051364</td>\n      <td>0.00521995</td>\n      <td>0.00530232</td>\n      <td>0.00538244</td>\n      <td>0.00546076</td>\n      <td>0.00553742</td>\n      <td>0.00561108</td>\n      <td>...</td>\n      <td>0.006477</td>\n      <td>0.006554</td>\n      <td>0.006632</td>\n      <td>0.006713</td>\n      <td>0.006798</td>\n      <td>0.006886</td>\n      <td>0.006977</td>\n      <td>0.007073</td>\n      <td>0.007178</td>\n      <td>0.007296</td>\n    </tr>\n  </tbody>\n</table>\n<p>67 rows × 32 columns</p>\n</div>"
     },
     "metadata": {},
     "execution_count": 199
    }
   ],
   "source": [
    "population.columns = ['country']+list(np.arange(1980, 2011))\n",
    "for i, col in enumerate(population.columns[1:]):\n",
    "    population[col] /= population.iloc[:, 1:].sum(axis=0).values[i]\n",
    "population"
   ]
  },
  {
   "cell_type": "code",
   "execution_count": 201,
   "metadata": {
    "tags": []
   },
   "outputs": [],
   "source": [
    "population_initial = population.iloc[:, :2]"
   ]
  },
  {
   "cell_type": "code",
   "execution_count": 215,
   "metadata": {},
   "outputs": [
    {
     "output_type": "execute_result",
     "data": {
      "text/plain": [
       "2      7\n",
       "3      7\n",
       "5      6\n",
       "1      5\n",
       "4      4\n",
       "7      4\n",
       "8      4\n",
       "9      3\n",
       "12     3\n",
       "0      2\n",
       "48     2\n",
       "30     2\n",
       "24     2\n",
       "6      2\n",
       "13     2\n",
       "10     1\n",
       "103    1\n",
       "99     1\n",
       "15     1\n",
       "21     1\n",
       "23     1\n",
       "32     1\n",
       "40     1\n",
       "58     1\n",
       "66     1\n",
       "68     1\n",
       "14     1\n",
       "Name: 1980, dtype: int64"
      ]
     },
     "metadata": {},
     "execution_count": 215
    }
   ],
   "source": [
    "(population_initial[1980]*1000).map(round).value_counts()"
   ]
  },
  {
   "cell_type": "code",
   "execution_count": null,
   "metadata": {},
   "outputs": [],
   "source": []
  }
 ],
 "metadata": {
  "kernelspec": {
   "name": "python383jvsc74a57bd0126027eaeb3a288d6449f71f58e63ebd1bfb4f085b36dfa9ac08853199aa2178",
   "display_name": "Python 3.8.3 64-bit ('base': conda)"
  },
  "language_info": {
   "codemirror_mode": {
    "name": "ipython",
    "version": 3
   },
   "file_extension": ".py",
   "mimetype": "text/x-python",
   "name": "python",
   "nbconvert_exporter": "python",
   "pygments_lexer": "ipython3",
   "version": "3.8.3"
  },
  "varInspector": {
   "cols": {
    "lenName": 16,
    "lenType": 16,
    "lenVar": 40
   },
   "kernels_config": {
    "python": {
     "delete_cmd_postfix": "",
     "delete_cmd_prefix": "del ",
     "library": "var_list.py",
     "varRefreshCmd": "print(var_dic_list())"
    },
    "r": {
     "delete_cmd_postfix": ") ",
     "delete_cmd_prefix": "rm(",
     "library": "var_list.r",
     "varRefreshCmd": "cat(var_dic_list()) "
    }
   },
   "types_to_exclude": [
    "module",
    "function",
    "builtin_function_or_method",
    "instance",
    "_Feature"
   ],
   "window_display": false
  }
 },
 "nbformat": 4,
 "nbformat_minor": 2
}