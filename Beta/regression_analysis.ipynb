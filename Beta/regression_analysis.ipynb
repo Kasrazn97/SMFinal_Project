{
 "cells": [
  {
   "cell_type": "code",
   "execution_count": null,
   "metadata": {
    "ExecuteTime": {
     "end_time": "2021-06-15T07:40:49.250187Z",
     "start_time": "2021-06-15T07:40:47.818665Z"
    }
   },
   "outputs": [],
   "source": [
    "import pandas as pd\n",
    "import numpy as np"
   ]
  },
  {
   "cell_type": "markdown",
   "metadata": {},
   "source": [
    "# finding betas with final dataset"
   ]
  },
  {
   "cell_type": "code",
   "execution_count": null,
   "metadata": {
    "ExecuteTime": {
     "end_time": "2021-06-15T10:57:24.643368Z",
     "start_time": "2021-06-15T10:57:24.603463Z"
    }
   },
   "outputs": [],
   "source": [
    "migration_stats = pd.read_csv('../data/all_emigrants_high_interpolated.csv').drop(['Unnamed: 0','country_to'], axis=1)\n",
    "years_data = migration_stats.iloc[:, 1:32].columns\n",
    "migration_stats_by_origin = migration_stats.groupby('country_from')[years_data].sum()\n",
    "migration_stats_by_origin = migration_stats_by_origin.diff(periods=1,axis=1)\n",
    "migration_stats_by_origin = migration_stats_by_origin.fillna(0)\n",
    "migration_stats_by_origin = migration_stats_by_origin.reset_index()\n",
    "migration_stats_by_origin = migration_stats_by_origin.melt('country_from', var_name = 'year', value_name = 'num_of_emmigrants')\n",
    "migration_stats_by_origin = migration_stats_by_origin.set_index(['country_from', 'year'])\n",
    "migration_stats_by_origin"
   ]
  },
  {
   "cell_type": "code",
   "execution_count": null,
   "metadata": {
    "ExecuteTime": {
     "end_time": "2021-06-15T08:38:15.040588Z",
     "start_time": "2021-06-15T08:38:14.738423Z"
    }
   },
   "outputs": [],
   "source": [
    "migration_stats = pd.read_csv('../data/all_emigrants_high_interpolated.csv').drop('Unnamed: 0', axis=1)\n",
    "migration_stats.head()"
   ]
  },
  {
   "cell_type": "code",
   "execution_count": null,
   "metadata": {
    "ExecuteTime": {
     "end_time": "2021-06-15T08:38:15.375744Z",
     "start_time": "2021-06-15T08:38:15.332807Z"
    }
   },
   "outputs": [],
   "source": [
    "years_data = migration_stats.iloc[:, 1:32].columns\n",
    "migration_stats_by_destination = migration_stats.groupby('country_to')[years_data].sum()\n",
    "migration_stats_by_destination"
   ]
  },
  {
   "cell_type": "code",
   "execution_count": null,
   "metadata": {
    "ExecuteTime": {
     "end_time": "2021-06-15T08:38:16.508615Z",
     "start_time": "2021-06-15T08:38:16.497669Z"
    }
   },
   "outputs": [],
   "source": [
    "migration_stats_by_destination['total_to_country'] = migration_stats_by_destination.sum(axis=1)\n",
    "total_by_year = migration_stats_by_destination.sum(axis=0)\n",
    "country_to = list(migration_stats_by_destination.reset_index()['country_to'])\n",
    "country_to.append('total')\n",
    "migration_stats_by_destination = migration_stats_by_destination.append(total_by_year, ignore_index=True)\n",
    "migration_stats_by_destination['country_to'] = pd.Series(country_to)\n",
    "# migration_stats_by_destination"
   ]
  },
  {
   "cell_type": "code",
   "execution_count": null,
   "metadata": {
    "ExecuteTime": {
     "end_time": "2021-06-15T08:38:18.359330Z",
     "start_time": "2021-06-15T08:38:18.322451Z"
    }
   },
   "outputs": [],
   "source": [
    "for col in migration_stats_by_destination.iloc[:, :-1].columns:\n",
    "     migration_stats_by_destination[col][:-1] /= migration_stats_by_destination[col][len(migration_stats_by_destination)-1]"
   ]
  },
  {
   "cell_type": "code",
   "execution_count": null,
   "metadata": {
    "ExecuteTime": {
     "end_time": "2021-06-15T08:38:20.635670Z",
     "start_time": "2021-06-15T08:38:20.621708Z"
    }
   },
   "outputs": [],
   "source": [
    "migration_stats_by_destination_melted = migration_stats_by_destination.melt('country_to', var_name = 'year', value_name = 'prob')\n",
    "migration_stats_by_destination_melted = migration_stats_by_destination_melted.set_index(['country_to', 'year'])"
   ]
  },
  {
   "cell_type": "code",
   "execution_count": null,
   "metadata": {
    "ExecuteTime": {
     "end_time": "2021-06-15T08:38:21.301600Z",
     "start_time": "2021-06-15T08:38:21.236086Z"
    }
   },
   "outputs": [],
   "source": [
    "country_data = pd.read_csv('../df_for_final_sim.csv').drop('Unnamed: 0', axis=1)\n",
    "country_data = country_data.dropna()\n",
    "\n",
    "country_data = country_data.rename({'country':'country'}, axis=1).set_index(['country','year'])\n",
    "country_data"
   ]
  },
  {
   "cell_type": "code",
   "execution_count": null,
   "metadata": {
    "ExecuteTime": {
     "end_time": "2021-06-15T08:38:25.345128Z",
     "start_time": "2021-06-15T08:38:25.338144Z"
    }
   },
   "outputs": [],
   "source": [
    "migration_stats_by_destination_melted = migration_stats_by_destination_melted.reset_index()\n",
    "migration_stats_by_destination_melted['merge_index'] = migration_stats_by_destination_melted['country_to'] +  migration_stats_by_destination_melted['year'].astype(str)"
   ]
  },
  {
   "cell_type": "code",
   "execution_count": null,
   "metadata": {
    "ExecuteTime": {
     "end_time": "2021-06-14T21:20:31.712278Z",
     "start_time": "2021-06-14T21:20:31.646427Z"
    }
   },
   "outputs": [],
   "source": [
    "Calibration_data_df = country_data.loc[migration_stats['country_from'].unique(),:]\n",
    "Calibration_data_df"
   ]
  },
  {
   "cell_type": "code",
   "execution_count": null,
   "metadata": {
    "ExecuteTime": {
     "end_time": "2021-06-15T08:38:31.197263Z",
     "start_time": "2021-06-15T08:38:31.185282Z"
    }
   },
   "outputs": [],
   "source": [
    "country_data = country_data.reset_index()\n",
    "country_data['merge_index'] = country_data['country'] +  country_data['year'].astype(str)"
   ]
  },
  {
   "cell_type": "code",
   "execution_count": null,
   "metadata": {
    "ExecuteTime": {
     "end_time": "2021-06-15T08:38:31.556310Z",
     "start_time": "2021-06-15T08:38:31.541350Z"
    }
   },
   "outputs": [],
   "source": [
    "Regression_data_df = pd.merge(migration_stats_by_destination_melted,country_data,how='inner',on='merge_index')"
   ]
  },
  {
   "cell_type": "markdown",
   "metadata": {},
   "source": [
    "# Regression"
   ]
  },
  {
   "cell_type": "code",
   "execution_count": null,
   "metadata": {
    "ExecuteTime": {
     "end_time": "2021-06-14T22:46:40.766131Z",
     "start_time": "2021-06-14T22:46:40.743164Z"
    }
   },
   "outputs": [],
   "source": [
    "X = Regression_data_df.drop(['country_to','prob','year_y','merge_index'],axis=1)\n",
    "X"
   ]
  },
  {
   "cell_type": "code",
   "execution_count": null,
   "metadata": {
    "ExecuteTime": {
     "end_time": "2021-06-14T22:05:08.202338Z",
     "start_time": "2021-06-14T22:05:08.196327Z"
    }
   },
   "outputs": [],
   "source": [
    "X.year_x = X.year_x.astype(int)\n",
    "X.year_x = X.year_x-1980"
   ]
  },
  {
   "cell_type": "code",
   "execution_count": null,
   "metadata": {
    "ExecuteTime": {
     "end_time": "2021-06-10T14:14:10.732106Z",
     "start_time": "2021-06-10T14:14:10.170119Z"
    }
   },
   "outputs": [],
   "source": [
    "import statsmodels.formula.api as smf "
   ]
  },
  {
   "cell_type": "code",
   "execution_count": null,
   "metadata": {
    "ExecuteTime": {
     "end_time": "2021-06-14T22:48:13.001449Z",
     "start_time": "2021-06-14T22:48:12.978540Z"
    }
   },
   "outputs": [],
   "source": [
    "Calibration_data_df = X.copy() \n",
    "from sklearn.preprocessing import MinMaxScaler\n",
    "mms = MinMaxScaler()\n",
    "Calibration_data_scaled_df = Calibration_data_df.copy()\n",
    "Calibration_data_scaled_df[['co2', 'expRD', 'expEd', 'expHealth', 'gdp']] = mms.fit_transform(\n",
    "    Calibration_data_scaled_df[['co2', 'expRD', 'expEd', 'expHealth', 'gdp']])"
   ]
  },
  {
   "cell_type": "code",
   "execution_count": null,
   "metadata": {
    "ExecuteTime": {
     "end_time": "2021-06-14T22:49:31.148817Z",
     "start_time": "2021-06-14T22:49:31.129869Z"
    }
   },
   "outputs": [],
   "source": [
    "Calibration_data_scaled_df ['total'] = Calibration_data_scaled_df[['co2', 'expRD', 'expEd', 'expHealth', 'gdp']].sum(axis=1)\n",
    "Calibration_data_scaled_df"
   ]
  },
  {
   "cell_type": "code",
   "execution_count": null,
   "metadata": {
    "ExecuteTime": {
     "end_time": "2021-06-12T12:56:19.717934Z",
     "start_time": "2021-06-12T12:56:19.707961Z"
    }
   },
   "outputs": [],
   "source": [
    "us = Calibration_data_scaled_df.loc['Albania'] - Calibration_data_scaled_df.loc['United States']\n",
    "canada = Calibration_data_scaled_df.loc['Albania'] - Calibration_data_scaled_df.loc['Canada']"
   ]
  },
  {
   "cell_type": "code",
   "execution_count": null,
   "metadata": {
    "ExecuteTime": {
     "end_time": "2021-06-10T14:19:00.498755Z",
     "start_time": "2021-06-10T14:19:00.484792Z"
    }
   },
   "outputs": [],
   "source": [
    "from sklearn.preprocessing import MinMaxScaler\n",
    "mms = MinMaxScaler()\n",
    "Regression_data_scaled_df = Regression_data_df.copy()\n",
    "Regression_data_scaled_df[['co2', 'expRD', 'expEd', 'expHealth', 'gdp']] = mms.fit_transform(Regression_data_scaled_df[['co2', 'expRD', 'expEd', 'expHealth', 'gdp']])"
   ]
  },
  {
   "cell_type": "code",
   "execution_count": null,
   "metadata": {
    "ExecuteTime": {
     "end_time": "2021-06-10T14:19:15.523039Z",
     "start_time": "2021-06-10T14:19:15.498106Z"
    }
   },
   "outputs": [],
   "source": [
    "lin_mod = smf.ols ('prob~co2+expRD+expEd+expHealth+gdp', data = Regression_data_df).fit()"
   ]
  },
  {
   "cell_type": "code",
   "execution_count": null,
   "metadata": {
    "ExecuteTime": {
     "end_time": "2021-06-10T14:27:02.950312Z",
     "start_time": "2021-06-10T14:27:02.943330Z"
    }
   },
   "outputs": [],
   "source": [
    "lin_mod.params"
   ]
  }
 ],
 "metadata": {
  "interpreter": {
   "hash": "126027eaeb3a288d6449f71f58e63ebd1bfb4f085b36dfa9ac08853199aa2178"
  },
  "kernelspec": {
   "display_name": "Python 3",
   "language": "python",
   "name": "python3"
  },
  "language_info": {
   "codemirror_mode": {
    "name": "ipython",
    "version": 3
   },
   "file_extension": ".py",
   "mimetype": "text/x-python",
   "name": "python",
   "nbconvert_exporter": "python",
   "pygments_lexer": "ipython3",
   "version": "3.7.4"
  },
  "varInspector": {
   "cols": {
    "lenName": 16,
    "lenType": 16,
    "lenVar": 40
   },
   "kernels_config": {
    "python": {
     "delete_cmd_postfix": "",
     "delete_cmd_prefix": "del ",
     "library": "var_list.py",
     "varRefreshCmd": "print(var_dic_list())"
    },
    "r": {
     "delete_cmd_postfix": ") ",
     "delete_cmd_prefix": "rm(",
     "library": "var_list.r",
     "varRefreshCmd": "cat(var_dic_list()) "
    }
   },
   "types_to_exclude": [
    "module",
    "function",
    "builtin_function_or_method",
    "instance",
    "_Feature"
   ],
   "window_display": false
  }
 },
 "nbformat": 4,
 "nbformat_minor": 2
}
