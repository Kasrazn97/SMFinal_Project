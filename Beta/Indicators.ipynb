{
 "cells": [
  {
   "cell_type": "code",
   "execution_count": 2,
   "metadata": {
    "ExecuteTime": {
     "end_time": "2021-06-15T10:01:03.773196Z",
     "start_time": "2021-06-15T10:01:02.935733Z"
    }
   },
   "outputs": [],
   "source": [
    "import pandas as pd\n",
    "import numpy as np"
   ]
  },
  {
   "cell_type": "code",
   "execution_count": 40,
   "metadata": {
    "ExecuteTime": {
     "end_time": "2021-06-10T13:34:43.103832Z",
     "start_time": "2021-06-10T13:34:42.818766Z"
    }
   },
   "outputs": [],
   "source": [
    "GovExpEdu_df = pd.read_excel('GovExpEdu.xlsx',index_col='Country Name',na_values='..')\n",
    "GovExpEdu_df=GovExpEdu_df[GovExpEdu_df.isnull().sum(axis=1)<=25]\n",
    "GovExpEdu_df = GovExpEdu_df.interpolate(limit_direction='both', axis=1)\n",
    "GovExpEdu_df = GovExpEdu_df.reset_index()\n",
    "GovExpEdu_df = pd.melt(GovExpEdu_df, id_vars=['Country Name'])\n",
    "GovExpEdu_df.to_csv('GovExpEdu.csv')"
   ]
  },
  {
   "cell_type": "code",
   "execution_count": 41,
   "metadata": {
    "ExecuteTime": {
     "end_time": "2021-06-10T13:34:43.326804Z",
     "start_time": "2021-06-10T13:34:43.141260Z"
    }
   },
   "outputs": [],
   "source": [
    "GDP_df = pd.read_excel('GDP.xlsx',index_col='Country Name',na_values='..')\n",
    "GDP_df = GDP_df.loc[GovExpEdu_df['Country Name'].unique(),:]\n",
    "GDP_df = GDP_df.interpolate(limit_direction='both', axis=1)\n",
    "GDP_df = GDP_df.reset_index()\n",
    "GDP_df = pd.melt(GDP_df, id_vars=['Country Name'])\n",
    "GDP_df.to_csv('GDP.csv')"
   ]
  },
  {
   "cell_type": "code",
   "execution_count": 42,
   "metadata": {
    "ExecuteTime": {
     "end_time": "2021-06-10T13:34:43.742793Z",
     "start_time": "2021-06-10T13:34:43.519198Z"
    }
   },
   "outputs": [],
   "source": [
    "GovExpHealth_df = pd.read_excel('GovExpHealth.xlsx',index_col='Country Name')\n",
    "GovExpHealth_df= GovExpHealth_df.loc[GovExpEdu_df['Country Name'].unique(),:]\n",
    "GovExpHealth_df = GovExpHealth_df.interpolate(limit_direction='both', axis=1)\n",
    "GovExpHealth_df = GovExpHealth_df.reset_index()\n",
    "GovExpHealth_df = pd.melt(GovExpHealth_df, id_vars=['Country Name'])\n",
    "GovExpHealth_df.to_csv('GovExpHealth.csv')"
   ]
  },
  {
   "cell_type": "code",
   "execution_count": 43,
   "metadata": {
    "ExecuteTime": {
     "end_time": "2021-06-10T13:34:44.319681Z",
     "start_time": "2021-06-10T13:34:44.053343Z"
    }
   },
   "outputs": [],
   "source": [
    "CO2_df = pd.read_excel('CO2.xlsx',index_col='Country Name',na_values='..')\n",
    "CO2_df = CO2_df.loc[GovExpEdu_df['Country Name'].unique(),:]\n",
    "CO2_df = CO2_df.interpolate(limit_direction='both', axis=1)\n",
    "CO2_df = CO2_df.reset_index()\n",
    "CO2_df = pd.melt(CO2_df, id_vars=['Country Name'])\n",
    "CO2_df.to_csv('CO2.csv')"
   ]
  },
  {
   "cell_type": "code",
   "execution_count": 44,
   "metadata": {
    "ExecuteTime": {
     "end_time": "2021-06-10T13:34:44.843406Z",
     "start_time": "2021-06-10T13:34:44.599879Z"
    }
   },
   "outputs": [],
   "source": [
    "NumResearchersPerMillion_df = pd.read_excel('NumResearchersPerMillion.xlsx',index_col='Country Name',na_values='..')\n",
    "NumResearchersPerMillion_df = NumResearchersPerMillion_df.loc[GovExpEdu_df['Country Name'].unique(),:]\n",
    "NumResearchersPerMillion_df = NumResearchersPerMillion_df.interpolate(limit_direction='both', axis=1)\n",
    "NumResearchersPerMillion_df = NumResearchersPerMillion_df.reset_index()\n",
    "NumResearchersPerMillion_df = pd.melt(NumResearchersPerMillion_df, id_vars=['Country Name'])\n",
    "NumResearchersPerMillion_df.to_csv('NumResearchersPerMillion.csv')"
   ]
  },
  {
   "cell_type": "code",
   "execution_count": 45,
   "metadata": {
    "ExecuteTime": {
     "end_time": "2021-06-10T13:34:45.577885Z",
     "start_time": "2021-06-10T13:34:45.378132Z"
    }
   },
   "outputs": [],
   "source": [
    "ExpRD_df = pd.read_excel('ExpRD.xlsx',index_col='Country Name',na_values='..')\n",
    "ExpRD_df = ExpRD_df.loc[GovExpEdu_df['Country Name'].unique(),:]\n",
    "ExpRD_df = ExpRD_df.interpolate(limit_direction='both', axis=1)\n",
    "ExpRD_df = ExpRD_df.reset_index()\n",
    "ExpRD_df = pd.melt(ExpRD_df, id_vars=['Country Name'])\n",
    "ExpRD_df.to_csv('ExpRD.csv')"
   ]
  },
  {
   "cell_type": "code",
   "execution_count": 46,
   "metadata": {
    "ExecuteTime": {
     "end_time": "2021-06-10T13:34:46.277066Z",
     "start_time": "2021-06-10T13:34:45.969882Z"
    }
   },
   "outputs": [],
   "source": [
    "LifeExpectency_df = pd.read_excel('LifeExpectency.xlsx',index_col='Country Name',na_values='..')\n",
    "LifeExpectency_df = LifeExpectency_df.loc[GovExpEdu_df['Country Name'].unique(),:]\n",
    "LifeExpectency_df = LifeExpectency_df.interpolate(limit_direction='both', axis=1)\n",
    "LifeExpectency_df = LifeExpectency_df.reset_index()\n",
    "LifeExpectency_df = pd.melt(LifeExpectency_df, id_vars=['Country Name'])\n",
    "LifeExpectency_df.to_csv('LifeExpectency.csv')"
   ]
  }
 ],
 "metadata": {
  "kernelspec": {
   "display_name": "Python 3",
   "language": "python",
   "name": "python3"
  },
  "language_info": {
   "codemirror_mode": {
    "name": "ipython",
    "version": 3
   },
   "file_extension": ".py",
   "mimetype": "text/x-python",
   "name": "python",
   "nbconvert_exporter": "python",
   "pygments_lexer": "ipython3",
   "version": "3.7.4"
  },
  "varInspector": {
   "cols": {
    "lenName": 16,
    "lenType": 16,
    "lenVar": 40
   },
   "kernels_config": {
    "python": {
     "delete_cmd_postfix": "",
     "delete_cmd_prefix": "del ",
     "library": "var_list.py",
     "varRefreshCmd": "print(var_dic_list())"
    },
    "r": {
     "delete_cmd_postfix": ") ",
     "delete_cmd_prefix": "rm(",
     "library": "var_list.r",
     "varRefreshCmd": "cat(var_dic_list()) "
    }
   },
   "types_to_exclude": [
    "module",
    "function",
    "builtin_function_or_method",
    "instance",
    "_Feature"
   ],
   "window_display": false
  }
 },
 "nbformat": 4,
 "nbformat_minor": 2
}
